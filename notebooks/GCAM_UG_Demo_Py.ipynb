{
 "cells": [
  {
   "cell_type": "markdown",
   "id": "cfee3467-68a2-4d12-8942-b91cef65dbf3",
   "metadata": {},
   "source": [
    "An example of using gcamwrapper to highlight at a high level capabilities that could be useful for a number of tasks ranging from day to day work such as debgging or prototying, enabaling new expiriments such as coupling to other models, or new / more flexible method to run existing expiriments."
   ]
  },
  {
   "cell_type": "code",
   "execution_count": null,
   "id": "41157745-39c0-404f-b977-06a58ebf22af",
   "metadata": {},
   "outputs": [],
   "source": [
    "# general purpose package\n",
    "import time\n",
    "import pkg_resources\n",
    "\n",
    "import pandas as pd\n",
    "import numpy as np\n",
    "\n",
    "# load GCAM via gcamwrapper\n",
    "import gcamwrapper as gw"
   ]
  },
  {
   "cell_type": "markdown",
   "id": "a0c0e2a5-40bf-415c-81e5-4c1f70b3f253",
   "metadata": {},
   "source": [
    "To interact with GCAM we create a GCAM object and to do that we need to simply provide a configuration XML and the appropriate working directory from which to run."
   ]
  },
  {
   "cell_type": "code",
   "execution_count": null,
   "id": "0aa13795-45fc-455b-99f4-2124e4c06496",
   "metadata": {},
   "outputs": [],
   "source": [
    "# path to the exe directory where gcam-core is installed\n",
    "core_exe_path = '.'\n",
    "\n",
    "# path to the xml configuration file you want to use\n",
    "config_xml_file = '/home/msdadmin/csdms_demo/gcam-core/exe/configuration_reduced.xml'"
   ]
  },
  {
   "cell_type": "markdown",
   "id": "0efed416-0b14-4af4-b609-2e3e38170a5b",
   "metadata": {},
   "source": [
    "Here we can observe the typical GCAM messages.  It will go through the steps of parsing all XMLs and other intitializations (`completeInit`) so that it is in a state that is ready to run model periods."
   ]
  },
  {
   "cell_type": "code",
   "execution_count": null,
   "id": "f4deef82-e7e6-45e7-9ea9-83b90e2d4834",
   "metadata": {},
   "outputs": [],
   "source": [
    "%%time\n",
    "\n",
    "g = gw.Gcam(config_xml_file, core_exe_path)"
   ]
  },
  {
   "cell_type": "markdown",
   "id": "1ba60aae-8076-474a-b8c4-780268466ea6",
   "metadata": {},
   "source": [
    "Now we can start to interact with the GCAM object as we choose.  We will start by just running out several model periods.  `gcamwrapper` includes some handy utility methods such as to translate model years to periods."
   ]
  },
  {
   "cell_type": "code",
   "execution_count": null,
   "id": "c156c9d4-17c6-425c-9a8f-cb9efcf3c515",
   "metadata": {},
   "outputs": [],
   "source": [
    "%%time\n",
    "\n",
    "g.run_to_period(g.convert_year_to_period(2050))"
   ]
  },
  {
   "cell_type": "markdown",
   "id": "f3e2f057-1949-4f08-bd85-8a1cd27983e0",
   "metadata": {},
   "source": [
    "Next I'll introduce the `SolutionDebugger` object which is also part of the `gcamwrapper` package.  Naturally it is useful for solution debugging.  Which may not be that interesting for most folks.  So I won't dwell on it.  It does however include a method, `evaluate`, which can be used to run a single iteration of GCAM."
   ]
  },
  {
   "cell_type": "code",
   "execution_count": null,
   "id": "e22a4502-7ab8-469d-93cf-0966be8c4a72",
   "metadata": {},
   "outputs": [],
   "source": [
    "# the default is to create the debugger at the last period run and all solvable markets\n",
    "# however you could choose any previous period or supply a solution info using the same\n",
    "# syntax as in the solver config such as:\n",
    "# g.create_solution_debugger(market_filter = \"solvable && unsolved\")\n",
    "sd = g.create_solution_debugger()"
   ]
  },
  {
   "cell_type": "markdown",
   "id": "b64428af-eff5-40ed-9cf7-a29e2c623678",
   "metadata": {},
   "source": [
    "Save the initial prices so we can get back to them if necessary.\n",
    "\n",
    "It is also a good time to point out that the solver wants to work in \"scaled\" or normalized units.  This of course isn't always meaningful to the modelers so the `SolutionDebugger` methods can be configured to give values in either `scaled` (`True`) or actual units (`False`)."
   ]
  },
  {
   "cell_type": "code",
   "execution_count": null,
   "id": "9d4008a8-b7ba-4684-99ba-2cb8d171aa5e",
   "metadata": {},
   "outputs": [],
   "source": [
    "x0 = sd.get_prices(True)\n",
    "prices0 = sd.get_prices(False)"
   ]
  },
  {
   "cell_type": "markdown",
   "id": "51e01a9b-8ca9-4867-87df-7119f344e668",
   "metadata": {},
   "source": [
    "The `SolutionDebugger` methods return a vector of values.  However, these vectors are \"named\" with the market names which is quite handy to quickly understand what the values are"
   ]
  },
  {
   "cell_type": "code",
   "execution_count": null,
   "id": "cc6ce0ed-420e-4689-add6-71535d4d72c4",
   "metadata": {},
   "outputs": [],
   "source": [
    "sd.get_prices(False)[0:5]"
   ]
  },
  {
   "cell_type": "markdown",
   "id": "1d05eb3c-d3f3-42fe-be95-1c5538666402",
   "metadata": {},
   "source": [
    "Or to index the vector directly"
   ]
  },
  {
   "cell_type": "code",
   "execution_count": null,
   "id": "d7459e2f-e34b-4d9c-8a65-965803367047",
   "metadata": {},
   "outputs": [],
   "source": [
    "sd.get_supply(False)['USACorn']"
   ]
  },
  {
   "cell_type": "markdown",
   "id": "6ee466e3-b5d9-4f1a-8702-629e6559a7dd",
   "metadata": {},
   "source": [
    "A basic usage for this tool would be to map out supply and demand curves.\n",
    "\n",
    "To do so we can organize the steps into a function which we can then call over a vector of prices and markets"
   ]
  },
  {
   "cell_type": "code",
   "execution_count": null,
   "id": "69482589-3d4b-4a49-83de-1fe07a4da3a4",
   "metadata": {},
   "outputs": [],
   "source": [
    "def calc_supply_demand(sd, rel_prices, markets):\n",
    "    # loop over prices and colect results\n",
    "    return_dfs = []\n",
    "    for rel_price in rel_prices:\n",
    "        # I like to scale prices using relative values\n",
    "        # You could of course send actual prices in which case start with prices0\n",
    "        x = x0.copy()\n",
    "        x[markets] *= rel_price\n",
    "        \n",
    "        # Now we can run an interation at this new price\n",
    "        # We started from \"scaled\" prices so we need to tell evaluate so to let it know\n",
    "        # it doesn't need to rescale them.\n",
    "        # Also we don't want to reset the model back to the previous state so that we can\n",
    "        # collect some additional information beyond the `F(x)` (demand - supply) which is\n",
    "        # returned by the method\n",
    "        fx = sd.evaluate(x, scaled = True, reset = False)\n",
    "        \n",
    "        # collect results in a DataFrame from which we can plot results later\n",
    "        df = pd.DataFrame(data={\"market\": markets,\n",
    "                                \"price\": sd.get_prices(False)[markets],\n",
    "                                \"fx\": fx[markets],\n",
    "                                \"supply\": sd.get_supply(False)[markets],\n",
    "                                \"demand\": sd.get_demand(False)[markets]},\n",
    "                         index=markets)\n",
    "        return_dfs.append(df)\n",
    "    return pd.concat(return_dfs)"
   ]
  },
  {
   "cell_type": "markdown",
   "id": "48a25d59-42d5-446b-a904-99ae87f11a8c",
   "metadata": {},
   "source": [
    "Change USA biomass prices from 50% to 500% the solved value evenly spaced over 50 points"
   ]
  },
  {
   "cell_type": "code",
   "execution_count": null,
   "id": "8df96c4d-2692-46ef-a6a2-2440a81e9b21",
   "metadata": {},
   "outputs": [],
   "source": [
    "bio_sd = calc_supply_demand(sd, np.linspace(0.5, 5.0, 50), ['USAbiomass'])\n",
    "bio_sd.head()"
   ]
  },
  {
   "cell_type": "markdown",
   "id": "f336e704-4a1c-4871-a4a2-ee47c61ae30f",
   "metadata": {},
   "source": [
    "Plot up the supply and demand curves"
   ]
  },
  {
   "cell_type": "code",
   "execution_count": null,
   "id": "f67c3809-9fb7-43d3-8362-bfd15603f72a",
   "metadata": {},
   "outputs": [],
   "source": [
    "import matplotlib.pyplot as plt\n",
    "\n",
    "fig, ax = plt.subplots()\n",
    "ax.plot(bio_sd.price, bio_sd.supply, label=\"supply\")\n",
    "ax.plot(bio_sd.price, bio_sd.demand, label=\"demand\")\n",
    "ax.set_ylabel(\"quantity\")\n",
    "ax.set_xlabel(\"price\")\n",
    "ax.legend()"
   ]
  },
  {
   "cell_type": "markdown",
   "id": "ab723a18-f625-4fc8-ba23-300721bd2ed6",
   "metadata": {},
   "source": [
    "Now we switch gears and talk about how to get and set arbitrary GCAM parameters / results.\n",
    "\n",
    "Given the heirarchical nature of the way this data is represented in GCAM we continue to need some sort of queries which look _something_ like XPath queries such as those used with the output databases.  So similar to the output database we include a Query library which we have pre-populated query library in a YAML file included with the `gcamwrapper` package.  However, given we are alredy in `python` where we can easily filter,  summarize, etc the queries tend to be less detailed."
   ]
  },
  {
   "cell_type": "code",
   "execution_count": null,
   "id": "13cc6829-9ba2-44ee-b237-fa3152d2f077",
   "metadata": {},
   "outputs": [],
   "source": [
    "from gcamwrapper.query_library import PACKAGE_QUERIES"
   ]
  },
  {
   "cell_type": "markdown",
   "id": "e759e2a2-f77f-438c-ae32-0f1c1b265c8e",
   "metadata": {},
   "source": [
    "The queries have been organized into the following categores"
   ]
  },
  {
   "cell_type": "code",
   "execution_count": null,
   "id": "e7ae1c09-5981-4c9e-b9db-149f1c9288d1",
   "metadata": {},
   "outputs": [],
   "source": [
    "PACKAGE_QUERIES.keys()"
   ]
  },
  {
   "cell_type": "markdown",
   "id": "b9e2b25a-f593-4006-a57b-f620942cdbb4",
   "metadata": {},
   "source": [
    "And with in these categores we see some common queries to get results such as outputs or inputs and parameters such as share weights, IO coefficients, or costs."
   ]
  },
  {
   "cell_type": "code",
   "execution_count": null,
   "id": "5e01e599-3ca3-4559-b095-fa6eec458f2f",
   "metadata": {},
   "outputs": [],
   "source": [
    "PACKAGE_QUERIES['transportation'].keys()"
   ]
  },
  {
   "cell_type": "markdown",
   "id": "92f38b4c-2b0a-45b1-8c5b-4223b03827f9",
   "metadata": {},
   "source": [
    "Again the query looks something like XPath.  Altough you will note that in a bunch of these categories we see `region{region@name}` place holders.  These will basically be the columns you get in your output.  `gcamwrapper` will allow you to use some higher level sytax to apply filters in these place holders, but again, given the flexibility of doing this in `python` itself often just leaving the default (get all values) is good enough."
   ]
  },
  {
   "cell_type": "code",
   "execution_count": null,
   "id": "86b84d9f-c8e2-4093-81e7-095bbc5da6b8",
   "metadata": {},
   "outputs": [],
   "source": [
    "trn_cost_query = gw.get_query('transportation', 'non_energy_cost')\n",
    "trn_cost_query"
   ]
  },
  {
   "cell_type": "markdown",
   "id": "948553d1-769c-4817-b44a-ac4827500cd4",
   "metadata": {},
   "source": [
    "We can then just call `get_data` on the GCAM object with the query we want."
   ]
  },
  {
   "cell_type": "code",
   "execution_count": null,
   "id": "7f87d344-f656-4bf0-9f9a-fdafe3406e44",
   "metadata": {},
   "outputs": [],
   "source": [
    "trn_cost_df = g.get_data(trn_cost_query, vintage = [\"=\", g.get_current_year()])\n",
    "trn_cost_df.head()"
   ]
  },
  {
   "cell_type": "markdown",
   "id": "597107a9-ab83-4528-a455-423dcd9011f9",
   "metadata": {},
   "source": [
    "Now lets use this capability to do something _interesting_.  Here we do a little experiment to scale our Core assumptions about battery / capital costs for battery electric vehicles and see what that does to fuel consumption in the transportation sector."
   ]
  },
  {
   "cell_type": "code",
   "execution_count": null,
   "id": "6539a147-d055-4849-8763-3e4136c6cc12",
   "metadata": {},
   "outputs": [],
   "source": [
    "# save the core value so we can get back to it later\n",
    "core_BEV = trn_cost_df.query(\"technology == 'BEV'\")"
   ]
  },
  {
   "cell_type": "markdown",
   "id": "0ada7bce-fbf6-4aef-9f01-cfff57bb498d",
   "metadata": {},
   "source": [
    "Get the query for transport fuel consumption (input) and some mappings to aggregate / filter the fuels)."
   ]
  },
  {
   "cell_type": "code",
   "execution_count": null,
   "id": "40982b91-00cc-451e-8f3e-c896f252b416",
   "metadata": {},
   "outputs": [],
   "source": [
    "trn_input_query = gw.get_query(\"transportation\", \"input\")\n",
    "\n",
    "trn_fuel_map = pd.DataFrame({\"fuel\": [\"H2\", \"H2\", \"coal\", \"gas\", \"elec\", \"liquids\"]},\n",
    "                           index=[\"H2 retail dispensing\", \"H2 wholesale dispensing\",\n",
    "                                  \"delivered coal\", \"delivered gas\", \"elect_td_trn\",\n",
    "                                  \"refined liquids enduse\"])"
   ]
  },
  {
   "cell_type": "markdown",
   "id": "7a685496-35f2-4df7-85ad-fd73d6cdd8fb",
   "metadata": {},
   "source": [
    "Organize the steps into a function so we can run the expirment over a vector of sensitiviy values.  Here we will do a simple test to see what happens as a first degree effect (out of equalibrium)."
   ]
  },
  {
   "cell_type": "code",
   "execution_count": null,
   "id": "14f1e4aa-1893-4be4-afc0-a26d2e452cac",
   "metadata": {},
   "outputs": [],
   "source": [
    "def calc_bev_eval(sens_mults):\n",
    "    # loop over sensitivities and colect results\n",
    "    return_dfs = []\n",
    "    for sens in sens_mults:\n",
    "        # start with the Core assumption and scale BEV costs by the current sens\n",
    "        new_costs = core_BEV.copy()\n",
    "        new_costs['adjusted-cost'] *= sens\n",
    "        # to update the parameters in GCAM we can just call `set_data` with\n",
    "        # the GCAM object, the DataFrame with values to update, and the same\n",
    "        # query we used to query the data in the first place\n",
    "        g.set_data(new_costs, trn_cost_query)\n",
    "        \n",
    "        # run a single iteration using the solved prices\n",
    "        # again, do not reset after so that we can collect some results\n",
    "        sd.evaluate(x0, True, False)\n",
    "        \n",
    "        # grab the transport fuel consumption and aggregate so we can plot up some\n",
    "        # results\n",
    "        trn_input_df = g.get_data(trn_input_query, year = [\"=\", g.get_current_year()])\n",
    "        trn_fuel_agg = trn_fuel_map.merge(trn_input_df.groupby([\"input\"]).sum([\"physical-demand\"]), left_index=True, right_index=True)\n",
    "        trn_fuel_agg['sens'] = sens\n",
    "        trn_fuel_agg = trn_fuel_agg.pivot_table(index=[\"sens\"], columns=[\"fuel\"], values=[\"physical-demand\"], aggfunc=\"sum\")\n",
    "        return_dfs.append(trn_fuel_agg)\n",
    "    return pd.concat(return_dfs)"
   ]
  },
  {
   "cell_type": "markdown",
   "id": "87ae34fa-fa25-4117-8191-28ec3c8c60cf",
   "metadata": {},
   "source": [
    "Run the sensitivity at 1 (core value), 50%, and 10%"
   ]
  },
  {
   "cell_type": "code",
   "execution_count": null,
   "id": "445899c2-a2e7-4d7e-8233-c83d14ed698f",
   "metadata": {},
   "outputs": [],
   "source": [
    "sens_out = calc_bev_eval([1.0, 0.5, 0.1])"
   ]
  },
  {
   "cell_type": "markdown",
   "id": "0f905c9a-8a6c-4ae6-a5c6-d114290f0a31",
   "metadata": {},
   "source": [
    "Plot results"
   ]
  },
  {
   "cell_type": "code",
   "execution_count": null,
   "id": "93463be4-9e68-4a2b-93e6-35f767b4228a",
   "metadata": {},
   "outputs": [],
   "source": [
    "sens_out.plot.bar(stacked=True)"
   ]
  },
  {
   "cell_type": "markdown",
   "id": "19ef7bf0-d0df-4917-963e-7f4f62954742",
   "metadata": {},
   "source": [
    "Just double checking the costs indeed updated as expected"
   ]
  },
  {
   "cell_type": "code",
   "execution_count": null,
   "id": "20dbcfaa-b5e4-4850-97e5-d3774a4beb5b",
   "metadata": {},
   "outputs": [],
   "source": [
    "g.get_data(trn_cost_query, vintage = [\"=\", g.get_current_year()], tech = [\"=\", \"BEV\"]).head()"
   ]
  },
  {
   "cell_type": "markdown",
   "id": "821e2f04-d2b4-4ea5-91d6-2acf4cbbb68a",
   "metadata": {},
   "source": [
    "The real value of doing these experiments in GCAM is to include second order effects.  So lets do it again but this time re-solving."
   ]
  },
  {
   "cell_type": "code",
   "execution_count": null,
   "id": "9fab4038-363b-4c18-bad9-859d05091f85",
   "metadata": {},
   "outputs": [],
   "source": [
    "def calc_bev_solve(sens_mults):\n",
    "    # loop over sensitivities and colect results\n",
    "    # Oops, we have to use a slightly different query otherwise the value we want\n",
    "    # to set gets replaced with the parsed value in `initCalc`\n",
    "    input_cost_query = 'world/region{region@name}/sector[+NamedFilter,StringRegexMatches,^trn_]/subsector{subsector@name}/technology{tech@name}/period{vintage@year}/input{input@name}/input-cost'\n",
    "    return_dfs = []\n",
    "    for sens in sens_mults:\n",
    "        # start with the Core assumption and scale BEV costs by the current sens\n",
    "        new_costs = core_BEV.copy()\n",
    "        new_costs['adjusted-cost'] *= sens\n",
    "        new_costs.drop(columns=\"year\", inplace=True)\n",
    "        # set the data, same as before\n",
    "        g.set_data(new_costs, input_cost_query)\n",
    "        \n",
    "        # We can ask it to re-run whenever we want.  It keeps track of what has been\n",
    "        # run already to this call will only re-run 2050.\n",
    "        g.run_to_period(g.get_current_period())\n",
    "        \n",
    "        # grab the transport fuel consumption and aggregate so we can plot up some\n",
    "        # results\n",
    "        trn_input_df = g.get_data(trn_input_query, year = [\"=\", g.get_current_year()])\n",
    "        trn_fuel_agg = trn_fuel_map.merge(trn_input_df.groupby([\"input\"]).sum([\"physical-demand\"]), left_index=True, right_index=True)\n",
    "        trn_fuel_agg['sens'] = sens\n",
    "        trn_fuel_agg = trn_fuel_agg.pivot_table(index=[\"sens\"], columns=[\"fuel\"], values=[\"physical-demand\"], aggfunc=\"sum\")\n",
    "        return_dfs.append(trn_fuel_agg)\n",
    "    return pd.concat(return_dfs)"
   ]
  },
  {
   "cell_type": "markdown",
   "id": "33e90cfc-4763-4705-b8c0-79614f8febbe",
   "metadata": {},
   "source": [
    "Run the sensitivity at 1 (core value), 50%, and 10%\n",
    "\n",
    "Obviously this will take longer to run"
   ]
  },
  {
   "cell_type": "code",
   "execution_count": null,
   "id": "37095733-c389-4fd8-9ef1-c383295feac0",
   "metadata": {},
   "outputs": [],
   "source": [
    "sens_out = calc_bev_solve([1.0, 0.5, 0.1])"
   ]
  },
  {
   "cell_type": "markdown",
   "id": "4fe5904f-e160-4b60-84eb-0a224a7712a8",
   "metadata": {},
   "source": [
    "Plot results"
   ]
  },
  {
   "cell_type": "code",
   "execution_count": null,
   "id": "f41a316e-8896-4ad9-ac23-af1a1dbce8dd",
   "metadata": {},
   "outputs": [],
   "source": [
    "sens_out.plot.bar(stacked=True)"
   ]
  },
  {
   "cell_type": "markdown",
   "id": "c8150fe2-70eb-4fe9-909a-ffb5685ed763",
   "metadata": {},
   "source": [
    "Just double checking the costs indeed updated as expected"
   ]
  },
  {
   "cell_type": "code",
   "execution_count": null,
   "id": "35f34076-79da-4eb3-84f2-0fd3781d866d",
   "metadata": {},
   "outputs": [],
   "source": [
    "g.get_data(trn_cost_query, vintage = [\"=\", g.get_current_year()], tech = [\"=\", \"BEV\"]).head()"
   ]
  }
 ],
 "metadata": {
  "kernelspec": {
   "display_name": "Python 3",
   "language": "python",
   "name": "python3"
  },
  "language_info": {
   "codemirror_mode": {
    "name": "ipython",
    "version": 3
   },
   "file_extension": ".py",
   "mimetype": "text/x-python",
   "name": "python",
   "nbconvert_exporter": "python",
   "pygments_lexer": "ipython3",
   "version": "3.8.10"
  }
 },
 "nbformat": 4,
 "nbformat_minor": 5
}
