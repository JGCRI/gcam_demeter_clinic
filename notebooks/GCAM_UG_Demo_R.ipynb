{
 "cells": [
  {
   "cell_type": "markdown",
   "id": "869b1fcd-5256-4a1e-9096-0450a971a664",
   "metadata": {},
   "source": [
    "An example of using gcamwrapper to highlight at a high level capabilities that could be useful for a number of tasks ranging from day to day work such as debgging or prototying, enabaling new expiriments such as coupling to other models, or new / more flexible method to run existing expiriments."
   ]
  },
  {
   "cell_type": "code",
   "execution_count": null,
   "id": "836aecaa-284b-4655-b3bd-817fe100634f",
   "metadata": {},
   "outputs": [],
   "source": [
    "# common packages to support the demo\n",
    "library(dplyr)\n",
    "library(ggplot2)\n",
    "\n",
    "# load GCAM via gcamwrapper\n",
    "library(gcamwrapper)"
   ]
  },
  {
   "cell_type": "markdown",
   "id": "3d11d821-2a71-4d42-a6c2-920b50ac8af2",
   "metadata": {},
   "source": [
    "To interact with GCAM we create a GCAM object and to do that we need to simply provide a configuration XML and the appropriate working directory from which to run."
   ]
  },
  {
   "cell_type": "code",
   "execution_count": null,
   "id": "c769a2dd-cdd1-45a3-b7ee-506312699be7",
   "metadata": {},
   "outputs": [],
   "source": [
    "# path to the exe directory where gcam-core is installed\n",
    "core_exe_path = '.'\n",
    "\n",
    "# path to the xml configuration file you want to use\n",
    "config_xml_file = '/home/msdadmin/csdms_demo/gcam-core/exe/configuration_reduced.xml'"
   ]
  },
  {
   "cell_type": "markdown",
   "id": "c1357be5-1be9-4118-bfcd-1abf4b513093",
   "metadata": {},
   "source": [
    "Here we can observe the typical GCAM messages.  It will go through the steps of parsing all XMLs and other intitializations (`completeInit`) so that it is in a state that is ready to run model periods."
   ]
  },
  {
   "cell_type": "code",
   "execution_count": null,
   "id": "93ddb2d0-b79c-4065-b418-419224d4a91e",
   "metadata": {},
   "outputs": [],
   "source": [
    "# %%time\n",
    "\n",
    "g = create_and_initialize(config_xml_file, core_exe_path)"
   ]
  },
  {
   "cell_type": "markdown",
   "id": "c0e097b8-e32b-46bc-9f97-e706637a8d0d",
   "metadata": {},
   "source": [
    "Now we can start to interact with the GCAM object as we choose.  We will start by just running out several model periods.  `gcamwrapper` includes some handy utility methods such as to translate model years to periods."
   ]
  },
  {
   "cell_type": "code",
   "execution_count": null,
   "id": "bf1753b4-277e-4c7a-9931-552668ff76aa",
   "metadata": {},
   "outputs": [],
   "source": [
    "run_to_period(g, convert_year_to_period(g, 2050))"
   ]
  },
  {
   "cell_type": "markdown",
   "id": "e2570057-92d2-4c5c-b030-ccec73b52cc0",
   "metadata": {},
   "source": [
    "Next I'll introduce the `SolutionDebugger` object which is also part of the `gcamwrapper` package.  Naturally it is useful for solution debugging.  Which may not be that interesting for most folks.  So I won't dwell on it.  It does however include a method, `evaluate`, which can be used to run a single iteration of GCAM."
   ]
  },
  {
   "cell_type": "code",
   "execution_count": null,
   "id": "b5632247-d051-4001-9439-f1aedb2ad8cd",
   "metadata": {},
   "outputs": [],
   "source": [
    "# the default is to create the debugger at the last period run and all solvable markets\n",
    "# however you could choose any previous period or supply a solution info using the same\n",
    "# syntax as in the solver config such as:\n",
    "# create_solution_debugger(g, market_filter = \"solvable && unsolved\")\n",
    "sd = create_solution_debugger(g)"
   ]
  },
  {
   "cell_type": "markdown",
   "id": "936582e6-91df-4bfb-8c33-49eaa5c61cbf",
   "metadata": {},
   "source": [
    "Save the initial prices so we can get back to them if necessary.\n",
    "\n",
    "It is also a good time to point out that the solver wants to work in \"scaled\" or normalized units.  This of course isn't always meaningful to the modelers so the `SolutionDebugger` methods can be configured to give values in either `scaled` (`TRUE`) or actual units (`FALSE`)."
   ]
  },
  {
   "cell_type": "code",
   "execution_count": null,
   "id": "34977df8-425b-473a-99eb-cc4f63ed2bf2",
   "metadata": {},
   "outputs": [],
   "source": [
    "x0 = get_prices(sd, TRUE)\n",
    "prices0 = get_prices(sd, FALSE)"
   ]
  },
  {
   "cell_type": "markdown",
   "id": "666aeabe-4f4e-426b-b242-3903e28c306e",
   "metadata": {},
   "source": [
    "The `SolutionDebugger` methods return a vector of values.  However, these vectors are \"named\" with the market names which is quite handy to quickly understand what the values are"
   ]
  },
  {
   "cell_type": "code",
   "execution_count": null,
   "id": "9d51a9f2-ecef-45c6-b036-e618c9ea42b8",
   "metadata": {},
   "outputs": [],
   "source": [
    "get_prices(sd, FALSE)[1:5]"
   ]
  },
  {
   "cell_type": "markdown",
   "id": "3916da34-7f37-43dd-8bac-b19c1e5830c4",
   "metadata": {},
   "source": [
    "Or to index the vector directly"
   ]
  },
  {
   "cell_type": "code",
   "execution_count": null,
   "id": "796aa90b-cd3f-45da-9622-d03f713911b2",
   "metadata": {},
   "outputs": [],
   "source": [
    "get_supply(sd, FALSE)['USACorn']"
   ]
  },
  {
   "cell_type": "markdown",
   "id": "ce6f7965-5d44-449f-a3db-75480f3b0978",
   "metadata": {},
   "source": [
    "A basic usage for this tool would be to map out supply and demand curves.\n",
    "\n",
    "To do so we can organize the steps into a function which we can then call over a vector of prices and markets"
   ]
  },
  {
   "cell_type": "code",
   "execution_count": null,
   "id": "8c3a1cac-78cd-4dd1-8f23-b5a7cdfd8906",
   "metadata": {},
   "outputs": [],
   "source": [
    "calc_supply_demand = function(rel_prices, markets) {\n",
    "    # loop over prices and colect results\n",
    "    return_dfs = lapply(rel_prices, function(rel_price){\n",
    "        # I like to scale prices using relative values\n",
    "        # You could of course send actual prices in which case start with prices0\n",
    "        x = x0\n",
    "        x[markets] = x[markets] * rel_price\n",
    "        \n",
    "        # Now we can run an interation at this new price\n",
    "        # We started from \"scaled\" prices so we need to tell evaluate so to let it know\n",
    "        # it doesn't need to rescale them.\n",
    "        # Also we don't want to reset the model back to the previous state so that we can\n",
    "        # collect some additional information beyond the `F(x)` (demand - supply) which is\n",
    "        # returned by the method\n",
    "        fx = evaluate(sd, x, scaled = T, reset = F)\n",
    "        \n",
    "        # collect results in a DataFrame from which we can plot results later\n",
    "        tibble(market=markets,\n",
    "               price=get_prices(sd, F)[markets],\n",
    "               fx=fx[markets],\n",
    "               supply=get_supply(sd, F)[markets],\n",
    "               demand=get_demand(sd, F)[markets])\n",
    "    })\n",
    "    bind_rows(return_dfs)\n",
    "}"
   ]
  },
  {
   "cell_type": "markdown",
   "id": "d6262130-4f2c-4a41-98a8-9546ff97a9a4",
   "metadata": {},
   "source": [
    "Change USA biomass prices from 50% to 500% the solved value evenly spaced over 50 points"
   ]
  },
  {
   "cell_type": "code",
   "execution_count": null,
   "id": "722eeb27-562b-49b4-bee1-f04e38bdef95",
   "metadata": {},
   "outputs": [],
   "source": [
    "bio_sd = calc_supply_demand(seq(0.5, 5.0, length.out=50), c(\"USAbiomass\"))\n",
    "head(bio_sd)"
   ]
  },
  {
   "cell_type": "markdown",
   "id": "516b0716-faed-45e2-829f-bca2c2d51e74",
   "metadata": {},
   "source": [
    "Plot up the supply and demand curves"
   ]
  },
  {
   "cell_type": "code",
   "execution_count": null,
   "id": "2494348a-cbac-416f-becd-e1b298287ba8",
   "metadata": {},
   "outputs": [],
   "source": [
    "ggplot(bio_sd) + geom_line(aes(price, supply, color=\"supply\")) + geom_line(aes(price, demand, color=\"demand\"))"
   ]
  },
  {
   "cell_type": "markdown",
   "id": "e3055a43-7d21-46c9-82eb-6cccf9e91fd5",
   "metadata": {},
   "source": [
    "Now we switch gears and talk about how to get and set arbitrary GCAM parameters / results.\n",
    "\n",
    "Given the heirarchical nature of the way this data is represented in GCAM we continue to need some sort of queries which look _something_ like XPath queries such as those used with the output databases.  So similar to the output database we include a Query library which we have pre-populated query library in a YAML file included with the `gcamwrapper` package.  However, given we are alredy in `R` where we can easily filter,  summarize, etc the queries tend to be less detailed."
   ]
  },
  {
   "cell_type": "code",
   "execution_count": null,
   "id": "1cad7edf-955e-48fb-9441-9c432f013ead",
   "metadata": {},
   "outputs": [],
   "source": [
    "PACKAGE_QUERIES <- yaml::read_yaml(system.file('extdata', 'query_library.yml', package=\"gcamwrapper\"))"
   ]
  },
  {
   "cell_type": "markdown",
   "id": "bff27681-0260-4d03-84d8-4764dac4249c",
   "metadata": {},
   "source": [
    "The queries have been organized into the following categores"
   ]
  },
  {
   "cell_type": "code",
   "execution_count": null,
   "id": "c6dd80fb-8f4a-4c36-9ac0-8442501c4110",
   "metadata": {},
   "outputs": [],
   "source": [
    "names(PACKAGE_QUERIES)"
   ]
  },
  {
   "cell_type": "markdown",
   "id": "104deca5-5cce-434d-8295-634e98cee8cc",
   "metadata": {},
   "source": [
    "And with in these categores we see some common queries to get results such as outputs or inputs and parameters such as share weights, IO coefficients, or costs."
   ]
  },
  {
   "cell_type": "code",
   "execution_count": null,
   "id": "994f3c60-8e83-41ce-aea4-d96cc3a050cf",
   "metadata": {},
   "outputs": [],
   "source": [
    "names(PACKAGE_QUERIES[['transportation']])"
   ]
  },
  {
   "cell_type": "markdown",
   "id": "71d9a2f7-c9b7-4757-a277-43f67fdf0b85",
   "metadata": {},
   "source": [
    "Again the query looks something like XPath.  Altough you will note that in a bunch of these categories we see `region{region@name}` place holders.  These will basically be the columns you get in your output.  `gcamwrapper` will allow you to use some higher level sytax to apply filters in these place holders, but again, given the flexibility of doing this in `R` itself often just leaving the default (get all values) is good enough."
   ]
  },
  {
   "cell_type": "code",
   "execution_count": null,
   "id": "80b68ea8-c752-40fc-8d4c-170e0f8b8947",
   "metadata": {},
   "outputs": [],
   "source": [
    "trn_cost_query = get_query('transportation', 'non_energy_cost')\n",
    "trn_cost_query"
   ]
  },
  {
   "cell_type": "markdown",
   "id": "aff5430f-9eb3-4fe2-a9eb-951613023e88",
   "metadata": {},
   "source": [
    "We can then just call `get_data` on the GCAM object with the query we want."
   ]
  },
  {
   "cell_type": "code",
   "execution_count": null,
   "id": "a95f3878-b1a0-42c8-a2ee-2fa3aad703fd",
   "metadata": {},
   "outputs": [],
   "source": [
    "trn_cost_df = get_data(g, trn_cost_query, list(vintage = c(\"=\", get_current_year(g) ) ) )\n",
    "head(trn_cost_df)"
   ]
  },
  {
   "cell_type": "markdown",
   "id": "99ec7c47-ab47-4e9d-af61-bc68e0297cb4",
   "metadata": {},
   "source": [
    "Now lets use this capability to do something _interesting_.  Here we do a little experiment to scale our Core assumptions about battery / capital costs for battery electric vehicles and see what that does to fuel consumption in the transportation sector."
   ]
  },
  {
   "cell_type": "code",
   "execution_count": null,
   "id": "a534f6d1-28cd-4583-9572-237f20eb1e71",
   "metadata": {},
   "outputs": [],
   "source": [
    "# save the core value so we can get back to it later\n",
    "core_BEV = trn_cost_df %>% filter(technology == 'BEV')"
   ]
  },
  {
   "cell_type": "markdown",
   "id": "624ef59a-095a-4e83-a6b2-ac7d7561ea30",
   "metadata": {},
   "source": [
    "Get the query for transport fuel consumption (input) and some mappings to aggregate / filter the fuels)."
   ]
  },
  {
   "cell_type": "code",
   "execution_count": null,
   "id": "583cab06-5f92-44b6-8bb7-b291be7ebab6",
   "metadata": {},
   "outputs": [],
   "source": [
    "trn_fuel_map = tibble(fuel = c(\"H2\", \"H2\", \"coal\", \"gas\", \"elec\", \"liquids\"),\n",
    "                      input = c(\"H2 retail dispensing\", \"H2 wholesale dispensing\",\n",
    "                                  \"delivered coal\", \"delivered gas\", \"elect_td_trn\",\n",
    "                                  \"refined liquids enduse\"))\n",
    "\n",
    "trn_input_query = get_query(\"transportation\", \"input\")"
   ]
  },
  {
   "cell_type": "markdown",
   "id": "43e5daac-a8c5-449e-a73a-cbc58686e4b5",
   "metadata": {},
   "source": [
    "Organize the steps into a function so we can run the expirment over a vector of sensitiviy values.  Here we will do a simple test to see what happens as a first degree effect (out of equalibrium)."
   ]
  },
  {
   "cell_type": "code",
   "execution_count": null,
   "id": "e14d0d78-cb10-457e-a0c7-4f6d1b6c9591",
   "metadata": {},
   "outputs": [],
   "source": [
    "calc_bev_eval = function(sens_mults) {\n",
    "    # loop over sensitivities and colect results\n",
    "    return_dfs = lapply(sens_mults, function(sens){\n",
    "        # start with the Core assumption and scale BEV costs by the current sens\n",
    "        core_BEV %>%\n",
    "            mutate(`adjusted-cost` = `adjusted-cost` * sens) %>%\n",
    "            # to update the parameters in GCAM we can just call `set_data` with\n",
    "            # the GCAM object, the DataFrame with values to update, and the same\n",
    "            # query we used to query the data in the first place\n",
    "            set_data(g, ., trn_cost_query)\n",
    "        \n",
    "        # run a single iteration using the solved prices\n",
    "        # again, do not reset after so that we can collect some results\n",
    "        evaluate(sd, x0, T, F)\n",
    "        \n",
    "        # grab the transport fuel consumption and aggregate so we can plot up some\n",
    "        # results\n",
    "        get_data(g, trn_input_query, list(year = c(\"=\", get_current_year(g)))) %>%\n",
    "         left_join(., trn_fuel_map, by=c(\"input\")) %>%\n",
    "         filter(!is.na(fuel)) %>%\n",
    "         group_by(fuel) %>%\n",
    "         summarize(`physical-demand` = sum(`physical-demand`)) %>%\n",
    "         ungroup() %>%\n",
    "         mutate(sens = sens)\n",
    "    })\n",
    "    bind_rows(return_dfs) %>%\n",
    "        mutate(sens = factor(sens, levels=sens_mults))\n",
    "}"
   ]
  },
  {
   "cell_type": "markdown",
   "id": "b6e807e3-1629-40e3-98d4-f22ecc2647b1",
   "metadata": {},
   "source": [
    "Run the sensitivity at 1 (core value), 50%, and 10%"
   ]
  },
  {
   "cell_type": "code",
   "execution_count": null,
   "id": "a024c8e8-25d3-47f8-9848-805a1a4ac892",
   "metadata": {},
   "outputs": [],
   "source": [
    "sens_out = calc_bev_eval(c(1.0, 0.5, 0.1))"
   ]
  },
  {
   "cell_type": "markdown",
   "id": "9577f734-9783-4ab0-bf67-9d5dc3ef9c66",
   "metadata": {},
   "source": [
    "Plot results"
   ]
  },
  {
   "cell_type": "code",
   "execution_count": null,
   "id": "b9c3c165-251b-4328-81fe-6b8b2648b4b0",
   "metadata": {},
   "outputs": [],
   "source": [
    "ggplot(sens_out) + geom_bar(aes(sens, `physical-demand`, fill = fuel), stat=\"identity\")"
   ]
  },
  {
   "cell_type": "markdown",
   "id": "153e6e8c-a3b6-4289-9b8d-23065674266d",
   "metadata": {},
   "source": [
    "Just double checking the costs indeed updated as expected"
   ]
  },
  {
   "cell_type": "code",
   "execution_count": null,
   "id": "08d03748-f0a8-4515-bcfa-da36f753de0a",
   "metadata": {},
   "outputs": [],
   "source": [
    "head(get_data(g, trn_cost_query, list(vintage = c(\"=\", get_current_year(g)), tech = c(\"=\", \"BEV\"))))"
   ]
  },
  {
   "cell_type": "markdown",
   "id": "d14fd534-7fa1-4c8d-97f1-ffa878357b70",
   "metadata": {},
   "source": [
    "The real value of doing these experiments in GCAM is to include second order effects.  So lets do it again but this time re-solving."
   ]
  },
  {
   "cell_type": "code",
   "execution_count": null,
   "id": "d40e167c-4cab-4e32-b149-a4b17cfb7b1a",
   "metadata": {},
   "outputs": [],
   "source": [
    "calc_bev_solve = function(sens_mults) {\n",
    "    # loop over sensitivities and colect results\n",
    "    # Oops, we have to use a slightly different query otherwise the value we want\n",
    "    # to set gets replaced with the parsed value in `initCalc`\n",
    "    input_cost_query = 'world/region{region@name}/sector[+NamedFilter,StringRegexMatches,^trn_]/subsector{subsector@name}/technology{tech@name}/period{vintage@year}/input{input@name}/input-cost'\n",
    "    return_dfs = lapply(sens_mults, function(sens){\n",
    "        # start with the Core assumption and scale BEV costs by the current sens\n",
    "        core_BEV %>%\n",
    "            mutate(`adjusted-cost` = `adjusted-cost` * sens) %>%\n",
    "            select(-year) %>%\n",
    "            # set the data, same as before\n",
    "            set_data(g, ., input_cost_query)\n",
    "        \n",
    "        # We can ask it to re-run whenever we want.  It keeps track of what has been\n",
    "        # run already to this call will only re-run 2050.\n",
    "        run_to_period(g, get_current_period(g))\n",
    "        \n",
    "        # grab the transport fuel consumption and aggregate so we can plot up some\n",
    "        # results\n",
    "        get_data(g, trn_input_query, list(year = c(\"=\", get_current_year(g)))) %>%\n",
    "         left_join(., trn_fuel_map, by=c(\"input\")) %>%\n",
    "         filter(!is.na(fuel)) %>%\n",
    "         group_by(fuel) %>%\n",
    "         summarize(`physical-demand` = sum(`physical-demand`)) %>%\n",
    "         ungroup() %>%\n",
    "         mutate(sens = sens)\n",
    "    })\n",
    "    bind_rows(return_dfs) %>%\n",
    "        mutate(sens = factor(sens, levels=sens_mults))\n",
    "}"
   ]
  },
  {
   "cell_type": "markdown",
   "id": "eabddda4-0cf0-409c-a433-fbe48a31a04f",
   "metadata": {},
   "source": [
    "Run the sensitivity at 1 (core value), 50%, and 10%\n",
    "\n",
    "Obviously this will take longer to run"
   ]
  },
  {
   "cell_type": "code",
   "execution_count": null,
   "id": "fabfa553-5631-48b6-bd9f-7a4b4f40247c",
   "metadata": {},
   "outputs": [],
   "source": [
    "sens_out = calc_bev_solve(c(1.0, 0.5, 0.1))"
   ]
  },
  {
   "cell_type": "markdown",
   "id": "c90d4f3e-ca12-4076-b287-0b8fafa223d2",
   "metadata": {},
   "source": [
    "Plot results"
   ]
  },
  {
   "cell_type": "code",
   "execution_count": null,
   "id": "753eb1c8-5247-4f98-9507-e52d9b5b474f",
   "metadata": {},
   "outputs": [],
   "source": [
    "ggplot(sens_out) + geom_bar(aes(sens, `physical-demand`, fill = fuel), stat=\"identity\")"
   ]
  },
  {
   "cell_type": "markdown",
   "id": "0c28d8f3-78c9-4836-a714-d8c8951aa45b",
   "metadata": {},
   "source": [
    "Just double checking the costs indeed updated as expected"
   ]
  },
  {
   "cell_type": "code",
   "execution_count": null,
   "id": "5b8ff87c-4519-4bec-9e80-e0247e06a766",
   "metadata": {},
   "outputs": [],
   "source": [
    "head(get_data(g, trn_cost_query, list(vintage = c(\"=\", get_current_year(g)), tech = c(\"=\", \"BEV\"))))"
   ]
  }
 ],
 "metadata": {
  "kernelspec": {
   "display_name": "R 3.6",
   "language": "R",
   "name": "ir36"
  },
  "language_info": {
   "codemirror_mode": "r",
   "file_extension": ".r",
   "mimetype": "text/x-r-source",
   "name": "R",
   "pygments_lexer": "r",
   "version": "3.6.3"
  }
 },
 "nbformat": 4,
 "nbformat_minor": 5
}
