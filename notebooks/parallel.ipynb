{
 "cells": [
  {
   "cell_type": "code",
   "execution_count": 4,
   "id": "7979205f-58ff-4979-856d-49233933c3f0",
   "metadata": {},
   "outputs": [],
   "source": [
    "\n",
    "import pickle\n",
    "\n",
    "import gcamwrapper as gw\n",
    "\n"
   ]
  },
  {
   "cell_type": "code",
   "execution_count": 2,
   "id": "bdb73c9d-f0a5-4b15-b9be-4a52c8ab3b2b",
   "metadata": {},
   "outputs": [],
   "source": [
    "# path to the exe directory where gcam-core is installed\n",
    "core_exe_path = 'gcam-core/exe'\n",
    "\n",
    "# path to the xml configuration file you want to use\n",
    "config_xml_file = 'configuration_reduced.xml'\n"
   ]
  },
  {
   "cell_type": "code",
   "execution_count": 3,
   "id": "e2b3adda-0fc7-4fad-8365-1a84ead476b9",
   "metadata": {},
   "outputs": [
    {
     "name": "stdout",
     "output_type": "stream",
     "text": [
      "Running GCAM model code base version 5.3 revision gcam-v5.3\n",
      "\n",
      "Configuration file:  configuration_reduced.xml\n",
      "Parsing input files...\n",
      "Parsing ../input/gcamdata/xml/no_climate_model.xml scenario component.\n",
      "Parsing ../input/gcamdata/xml/socioeconomics_gSSP2.xml scenario component.\n",
      "Parsing ../input/gcamdata/xml/resources.xml scenario component.\n",
      "Parsing ../input/gcamdata/xml/en_supply.xml scenario component.\n",
      "Parsing ../input/gcamdata/xml/en_transformation.xml scenario component.\n",
      "Parsing ../input/gcamdata/xml/electricity.xml scenario component.\n",
      "Parsing ../input/gcamdata/xml/heat.xml scenario component.\n",
      "Parsing ../input/gcamdata/xml/hydrogen.xml scenario component.\n",
      "Parsing ../input/gcamdata/xml/en_distribution.xml scenario component.\n",
      "Parsing ../input/gcamdata/xml/industry.xml scenario component.\n",
      "Parsing ../input/gcamdata/xml/industry_incelas_gssp2.xml scenario component.\n",
      "Parsing ../input/gcamdata/xml/cement.xml scenario component.\n",
      "Parsing ../input/gcamdata/xml/cement_incelas_gssp2.xml scenario component.\n",
      "Parsing ../input/gcamdata/xml/en_Fert.xml scenario component.\n",
      "Parsing ../input/gcamdata/xml/HDDCDD_constdd_no_GCM.xml scenario component.\n",
      "Parsing ../input/gcamdata/xml/building_det.xml scenario component.\n",
      "Parsing ../input/gcamdata/xml/transportation_UCD_CORE.xml scenario component.\n",
      "Parsing ../input/gcamdata/xml/Ccoef.xml scenario component.\n",
      "Parsing ../input/gcamdata/xml/Cstorage.xml scenario component.\n",
      "Parsing ../input/gcamdata/xml/ag_For_Past_bio_base_IRR_MGMT.xml scenario component.\n",
      "Parsing ../input/gcamdata/xml/ag_cost_IRR_MGMT.xml scenario component.\n",
      "Parsing ../input/gcamdata/xml/ag_prodchange_ref_IRR_MGMT.xml scenario component.\n",
      "Parsing ../input/gcamdata/xml/resbio_input_IRR_MGMT.xml scenario component.\n",
      "Parsing ../input/gcamdata/xml/an_input.xml scenario component.\n",
      "Parsing ../input/gcamdata/xml/ag_Fert_IRR_MGMT.xml scenario component.\n",
      "Parsing ../input/gcamdata/xml/land_input_1.xml scenario component.\n",
      "Parsing ../input/gcamdata/xml/land_input_2.xml scenario component.\n",
      "Parsing ../input/gcamdata/xml/land_input_3_IRR.xml scenario component.\n",
      "Parsing ../input/gcamdata/xml/land_input_4_IRR_MGMT.xml scenario component.\n",
      "Parsing ../input/gcamdata/xml/land_input_5_IRR_MGMT.xml scenario component.\n",
      "Parsing ../input/gcamdata/xml/demand_input.xml scenario component.\n",
      "Parsing ../input/gcamdata/xml/bio_trade.xml scenario component.\n",
      "Parsing ../input/gcamdata/xml/ag_trade.xml scenario component.\n",
      "Parsing ../input/gcamdata/xml/unlimited_water_supply.xml scenario component.\n",
      "Parsing ../input/gcamdata/xml/water_mapping.xml scenario component.\n",
      "Parsing ../input/gcamdata/xml/ag_water_input_IRR_MGMT.xml scenario component.\n",
      "Parsing ../input/gcamdata/xml/onshore_wind.xml scenario component.\n",
      "Parsing ../input/solution/cal_broyden_config.xml scenario component.\n",
      "XML parsing complete.\n",
      "Starting new scenario: Reference\n",
      "CPU times: user 1min 55s, sys: 2.5 s, total: 1min 57s\n",
      "Wall time: 1min 56s\n"
     ]
    }
   ],
   "source": [
    "%%time\n",
    "\n",
    "gcam = gw.Gcam(config_xml_file, core_exe_path)\n"
   ]
  },
  {
   "cell_type": "code",
   "execution_count": 7,
   "id": "9fb8a865-36b7-4172-bfd1-58a1af090d95",
   "metadata": {},
   "outputs": [
    {
     "name": "stdout",
     "output_type": "stream",
     "text": [
      "Starting a model run. Running period 4\n",
      "Model run beginning.\n",
      "Period 0: 1975\n",
      "Model solved with last period's prices.\n",
      "\n",
      "Period 1: 1990\n",
      "Model solved normally. Iterations period 1: 1. Total iterations: 2\n",
      "\n",
      "Period 2: 2005\n",
      "Model solved normally. Iterations period 2: 1. Total iterations: 3\n",
      "\n",
      "Period 3: 2010\n",
      "Model solved normally. Iterations period 3: 1. Total iterations: 4\n",
      "\n",
      "Period 4: 2015\n",
      "Model solved normally. Iterations period 4: 1. Total iterations: 5\n",
      "\n",
      "All model periods solved correctly.\n",
      "Model run completed.\n",
      "CPU times: user 32.7 s, sys: 164 ms, total: 32.9 s\n",
      "Wall time: 32.8 s\n"
     ]
    }
   ],
   "source": [
    "%%time\n",
    "\n",
    "final_cal_period = gcam.convert_year_to_period(2015)\n",
    "gcam.run_to_period(final_cal_period)\n"
   ]
  },
  {
   "cell_type": "code",
   "execution_count": null,
   "id": "ab797baa-1f36-4749-8ae1-1d9f6d364e8e",
   "metadata": {},
   "outputs": [],
   "source": []
  },
  {
   "cell_type": "code",
   "execution_count": null,
   "id": "a7a6f976-5e94-4006-8617-e644a2de8a4d",
   "metadata": {},
   "outputs": [],
   "source": []
  },
  {
   "cell_type": "code",
   "execution_count": null,
   "id": "52bdc3a6-f548-4a52-ac5a-aa7e6430e282",
   "metadata": {},
   "outputs": [],
   "source": []
  },
  {
   "cell_type": "code",
   "execution_count": null,
   "id": "b9159668-4739-4a55-a579-80ecaa446022",
   "metadata": {},
   "outputs": [],
   "source": []
  }
 ],
 "metadata": {
  "kernelspec": {
   "display_name": "Python 3",
   "language": "python",
   "name": "python3"
  },
  "language_info": {
   "codemirror_mode": {
    "name": "ipython",
    "version": 3
   },
   "file_extension": ".py",
   "mimetype": "text/x-python",
   "name": "python",
   "nbconvert_exporter": "python",
   "pygments_lexer": "ipython3",
   "version": "3.8.10"
  }
 },
 "nbformat": 4,
 "nbformat_minor": 5
}
