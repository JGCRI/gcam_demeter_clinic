{
 "cells": [
  {
   "cell_type": "markdown",
   "id": "45c90011-ba15-49a1-b167-4f007e4c2519",
   "metadata": {},
   "source": [
    "## Demonstration for updating GDP and Population dynamically using `gcamwrapper`"
   ]
  },
  {
   "cell_type": "markdown",
   "id": "fc403914-d1ec-4434-bc84-b7e0ef3af0b5",
   "metadata": {},
   "source": [
    "### Goal: Update GDP and Population data using alternative data starting in 2020 for each 10-year timestep through 2100"
   ]
  },
  {
   "cell_type": "code",
   "execution_count": 1,
   "id": "dd064356-259e-4ac2-a495-fe68e9dcc153",
   "metadata": {},
   "outputs": [],
   "source": [
    "import os\n",
    "\n",
    "import pandas as pd\n",
    "\n",
    "import gcamwrapper as gw\n",
    "\n"
   ]
  },
  {
   "cell_type": "markdown",
   "id": "3b3ef2aa-ae64-401c-b216-5b8c7f6b82f9",
   "metadata": {},
   "source": [
    "### Set the paths to the required GCAM files"
   ]
  },
  {
   "cell_type": "code",
   "execution_count": 2,
   "id": "82ee6044-18f6-4d75-8cf0-e7bcd95a96cd",
   "metadata": {},
   "outputs": [],
   "source": [
    "# path to the exe directory where gcam-core is installed\n",
    "core_exe_path = 'gcam-core/exe'\n",
    "\n",
    "# path to the xml configuration file you want to use\n",
    "config_xml_file = 'configuration_reduced.xml'\n"
   ]
  },
  {
   "cell_type": "markdown",
   "id": "19951285-cc10-464b-bff2-35d2342b2241",
   "metadata": {},
   "source": [
    "### Instantiate GCAM"
   ]
  },
  {
   "cell_type": "code",
   "execution_count": 3,
   "id": "1ba7f63d-5b8f-40ad-aefd-db94f0aefa33",
   "metadata": {},
   "outputs": [
    {
     "name": "stdout",
     "output_type": "stream",
     "text": [
      "Running GCAM model code base version 5.3 revision gcam-v5.3\n",
      "\n",
      "Configuration file:  configuration_reduced.xml\n",
      "Parsing input files...\n",
      "Parsing ../input/gcamdata/xml/no_climate_model.xml scenario component.\n",
      "Parsing ../input/gcamdata/xml/socioeconomics_gSSP2.xml scenario component.\n",
      "Parsing ../input/gcamdata/xml/resources.xml scenario component.\n",
      "Parsing ../input/gcamdata/xml/en_supply.xml scenario component.\n",
      "Parsing ../input/gcamdata/xml/en_transformation.xml scenario component.\n",
      "Parsing ../input/gcamdata/xml/electricity.xml scenario component.\n",
      "Parsing ../input/gcamdata/xml/heat.xml scenario component.\n",
      "Parsing ../input/gcamdata/xml/hydrogen.xml scenario component.\n",
      "Parsing ../input/gcamdata/xml/en_distribution.xml scenario component.\n",
      "Parsing ../input/gcamdata/xml/industry.xml scenario component.\n",
      "Parsing ../input/gcamdata/xml/industry_incelas_gssp2.xml scenario component.\n",
      "Parsing ../input/gcamdata/xml/cement.xml scenario component.\n",
      "Parsing ../input/gcamdata/xml/cement_incelas_gssp2.xml scenario component.\n",
      "Parsing ../input/gcamdata/xml/en_Fert.xml scenario component.\n",
      "Parsing ../input/gcamdata/xml/HDDCDD_constdd_no_GCM.xml scenario component.\n",
      "Parsing ../input/gcamdata/xml/building_det.xml scenario component.\n",
      "Parsing ../input/gcamdata/xml/transportation_UCD_CORE.xml scenario component.\n",
      "Parsing ../input/gcamdata/xml/Ccoef.xml scenario component.\n",
      "Parsing ../input/gcamdata/xml/Cstorage.xml scenario component.\n",
      "Parsing ../input/gcamdata/xml/ag_For_Past_bio_base_IRR_MGMT.xml scenario component.\n",
      "Parsing ../input/gcamdata/xml/ag_cost_IRR_MGMT.xml scenario component.\n",
      "Parsing ../input/gcamdata/xml/ag_prodchange_ref_IRR_MGMT.xml scenario component.\n",
      "Parsing ../input/gcamdata/xml/resbio_input_IRR_MGMT.xml scenario component.\n",
      "Parsing ../input/gcamdata/xml/an_input.xml scenario component.\n",
      "Parsing ../input/gcamdata/xml/ag_Fert_IRR_MGMT.xml scenario component.\n",
      "Parsing ../input/gcamdata/xml/land_input_1.xml scenario component.\n",
      "Parsing ../input/gcamdata/xml/land_input_2.xml scenario component.\n",
      "Parsing ../input/gcamdata/xml/land_input_3_IRR.xml scenario component.\n",
      "Parsing ../input/gcamdata/xml/land_input_4_IRR_MGMT.xml scenario component.\n",
      "Parsing ../input/gcamdata/xml/land_input_5_IRR_MGMT.xml scenario component.\n",
      "Parsing ../input/gcamdata/xml/demand_input.xml scenario component.\n",
      "Parsing ../input/gcamdata/xml/bio_trade.xml scenario component.\n",
      "Parsing ../input/gcamdata/xml/ag_trade.xml scenario component.\n",
      "Parsing ../input/gcamdata/xml/unlimited_water_supply.xml scenario component.\n",
      "Parsing ../input/gcamdata/xml/water_mapping.xml scenario component.\n",
      "Parsing ../input/gcamdata/xml/ag_water_input_IRR_MGMT.xml scenario component.\n",
      "Parsing ../input/gcamdata/xml/onshore_wind.xml scenario component.\n",
      "Parsing ../input/solution/cal_broyden_config.xml scenario component.\n",
      "XML parsing complete.\n",
      "Starting new scenario: Reference\n",
      "CPU times: user 1min 53s, sys: 2.44 s, total: 1min 56s\n",
      "Wall time: 1min 55s\n"
     ]
    }
   ],
   "source": [
    "%%time\n",
    "\n",
    "gcam = gw.Gcam(config_xml_file, core_exe_path)\n"
   ]
  },
  {
   "cell_type": "markdown",
   "id": "7dfcedde-b8ca-4b6d-bb2b-44a3c9636f1d",
   "metadata": {},
   "source": [
    "### This generates the GCAM time period integer from a year"
   ]
  },
  {
   "cell_type": "code",
   "execution_count": 4,
   "id": "9a8813be-3582-46a7-8ba0-5eca8ecd6bbd",
   "metadata": {},
   "outputs": [],
   "source": [
    "final_cal_period = gcam.convert_year_to_period(2020)\n"
   ]
  },
  {
   "cell_type": "markdown",
   "id": "cf969a6e-3d98-43ee-9dab-5535337b1864",
   "metadata": {},
   "source": [
    "### Run GCAM through the desired year, in this case 2020"
   ]
  },
  {
   "cell_type": "code",
   "execution_count": 5,
   "id": "f3a81a33-b6c5-40d7-bcf1-f773c7214622",
   "metadata": {},
   "outputs": [
    {
     "name": "stdout",
     "output_type": "stream",
     "text": [
      "Starting a model run. Running period 5\n",
      "Model run beginning.\n",
      "Period 0: 1975\n",
      "Model solved with last period's prices.\n",
      "\n",
      "Period 1: 1990\n",
      "Model solved normally. Iterations period 1: 1. Total iterations: 2\n",
      "\n",
      "Period 2: 2005\n",
      "Model solved normally. Iterations period 2: 1. Total iterations: 3\n",
      "\n",
      "Period 3: 2010\n",
      "Model solved normally. Iterations period 3: 1. Total iterations: 4\n",
      "\n",
      "Period 4: 2015\n",
      "Model solved normally. Iterations period 4: 1. Total iterations: 5\n",
      "\n",
      "Period 5: 2020\n",
      "Model solved normally. Iterations period 5: 938. Total iterations: 943\n",
      "\n",
      "All model periods solved correctly.\n",
      "Model run completed.\n",
      "CPU times: user 3min 39s, sys: 386 ms, total: 3min 39s\n",
      "Wall time: 3min 38s\n"
     ]
    }
   ],
   "source": [
    "%%time\n",
    "\n",
    "gcam.run_to_period(final_cal_period)\n"
   ]
  },
  {
   "cell_type": "markdown",
   "id": "e60409c8-91d6-45f4-a7b2-9d844d122b0d",
   "metadata": {},
   "source": [
    "### Generate the query string for GDP"
   ]
  },
  {
   "cell_type": "code",
   "execution_count": 14,
   "id": "89442fb1-62aa-43d6-b54d-70f36a5c71c0",
   "metadata": {},
   "outputs": [
    {
     "data": {
      "text/plain": [
       "'world/region{region@name}/GDP/laborproductivity{year@year}'"
      ]
     },
     "execution_count": 14,
     "metadata": {},
     "output_type": "execute_result"
    }
   ],
   "source": [
    "gdp_query = gw.get_query('socioeconomic', 'labor_productivity')\n",
    "\n",
    "gdp_query\n"
   ]
  },
  {
   "cell_type": "markdown",
   "id": "6938cefa-4089-46c3-9b6c-ce94efe31a08",
   "metadata": {},
   "source": [
    "### Generate the query string for population"
   ]
  },
  {
   "cell_type": "code",
   "execution_count": 11,
   "id": "37223108-0bc7-43fc-b525-f94f121956be",
   "metadata": {},
   "outputs": [
    {
     "data": {
      "text/plain": [
       "'world/region{region@name}/demographic/population{year@year}/totalPop'"
      ]
     },
     "execution_count": 11,
     "metadata": {},
     "output_type": "execute_result"
    }
   ],
   "source": [
    "pop_query = gw.get_query('socioeconomic', 'population')\n",
    "\n",
    "pop_query\n"
   ]
  },
  {
   "cell_type": "markdown",
   "id": "b5e0dd9a-0d44-4b30-8f7d-59735326b320",
   "metadata": {},
   "source": [
    "### Prepare the query parameters getting the current GCAM year being processed and up"
   ]
  },
  {
   "cell_type": "markdown",
   "id": "99f978ca-e436-41f8-ac40-820db2deb07c",
   "metadata": {},
   "source": [
    "All regions ('*') for years less than or equal to year 2020"
   ]
  },
  {
   "cell_type": "code",
   "execution_count": 12,
   "id": "4b7f85a2-454b-4d9d-8438-125598351c59",
   "metadata": {},
   "outputs": [],
   "source": [
    "gdp_get_query_params = {'region': ['*'], 'year': ['<=', gcam.get_current_year()]}\n",
    "\n",
    "pop_get_query_params = {'region': ['*'], 'year': ['<=', gcam.get_current_year()]}\n"
   ]
  },
  {
   "cell_type": "markdown",
   "id": "4307ea35-419c-4e0a-a6a2-ff874ecb33bb",
   "metadata": {},
   "source": [
    "### Get the data using the queries in the form of a Pandas DataFrame"
   ]
  },
  {
   "cell_type": "code",
   "execution_count": 15,
   "id": "6d868354-cfdc-4b85-a3a8-92c659b95b80",
   "metadata": {},
   "outputs": [
    {
     "data": {
      "text/html": [
       "<div>\n",
       "<style scoped>\n",
       "    .dataframe tbody tr th:only-of-type {\n",
       "        vertical-align: middle;\n",
       "    }\n",
       "\n",
       "    .dataframe tbody tr th {\n",
       "        vertical-align: top;\n",
       "    }\n",
       "\n",
       "    .dataframe thead th {\n",
       "        text-align: right;\n",
       "    }\n",
       "</style>\n",
       "<table border=\"1\" class=\"dataframe\">\n",
       "  <thead>\n",
       "    <tr style=\"text-align: right;\">\n",
       "      <th></th>\n",
       "      <th>region</th>\n",
       "      <th>year</th>\n",
       "      <th>laborproductivity</th>\n",
       "    </tr>\n",
       "  </thead>\n",
       "  <tbody>\n",
       "    <tr>\n",
       "      <th>0</th>\n",
       "      <td>Africa_Eastern</td>\n",
       "      <td>1975</td>\n",
       "      <td>0.00154</td>\n",
       "    </tr>\n",
       "    <tr>\n",
       "      <th>1</th>\n",
       "      <td>Africa_Eastern</td>\n",
       "      <td>1990</td>\n",
       "      <td>0.00154</td>\n",
       "    </tr>\n",
       "    <tr>\n",
       "      <th>2</th>\n",
       "      <td>Africa_Eastern</td>\n",
       "      <td>2005</td>\n",
       "      <td>0.01216</td>\n",
       "    </tr>\n",
       "    <tr>\n",
       "      <th>3</th>\n",
       "      <td>Africa_Eastern</td>\n",
       "      <td>2010</td>\n",
       "      <td>0.03926</td>\n",
       "    </tr>\n",
       "    <tr>\n",
       "      <th>4</th>\n",
       "      <td>Africa_Eastern</td>\n",
       "      <td>2015</td>\n",
       "      <td>0.02085</td>\n",
       "    </tr>\n",
       "    <tr>\n",
       "      <th>5</th>\n",
       "      <td>Africa_Eastern</td>\n",
       "      <td>2020</td>\n",
       "      <td>0.01952</td>\n",
       "    </tr>\n",
       "    <tr>\n",
       "      <th>6</th>\n",
       "      <td>Africa_Northern</td>\n",
       "      <td>1975</td>\n",
       "      <td>0.02850</td>\n",
       "    </tr>\n",
       "  </tbody>\n",
       "</table>\n",
       "</div>"
      ],
      "text/plain": [
       "            region  year  laborproductivity\n",
       "0   Africa_Eastern  1975            0.00154\n",
       "1   Africa_Eastern  1990            0.00154\n",
       "2   Africa_Eastern  2005            0.01216\n",
       "3   Africa_Eastern  2010            0.03926\n",
       "4   Africa_Eastern  2015            0.02085\n",
       "5   Africa_Eastern  2020            0.01952\n",
       "6  Africa_Northern  1975            0.02850"
      ]
     },
     "execution_count": 15,
     "metadata": {},
     "output_type": "execute_result"
    }
   ],
   "source": [
    "# create an output data frame containing land data\n",
    "gdp_df = gcam.get_data(gdp_query, gdp_get_query_params)\n",
    "\n",
    "gdp_df.head(7)\n"
   ]
  },
  {
   "cell_type": "code",
   "execution_count": 16,
   "id": "82b7081e-7229-4dd4-948a-83059c4071bf",
   "metadata": {},
   "outputs": [
    {
     "data": {
      "text/html": [
       "<div>\n",
       "<style scoped>\n",
       "    .dataframe tbody tr th:only-of-type {\n",
       "        vertical-align: middle;\n",
       "    }\n",
       "\n",
       "    .dataframe tbody tr th {\n",
       "        vertical-align: top;\n",
       "    }\n",
       "\n",
       "    .dataframe thead th {\n",
       "        text-align: right;\n",
       "    }\n",
       "</style>\n",
       "<table border=\"1\" class=\"dataframe\">\n",
       "  <thead>\n",
       "    <tr style=\"text-align: right;\">\n",
       "      <th></th>\n",
       "      <th>region</th>\n",
       "      <th>year</th>\n",
       "      <th>totalPop</th>\n",
       "    </tr>\n",
       "  </thead>\n",
       "  <tbody>\n",
       "    <tr>\n",
       "      <th>0</th>\n",
       "      <td>Africa_Eastern</td>\n",
       "      <td>1975</td>\n",
       "      <td>91890.0</td>\n",
       "    </tr>\n",
       "    <tr>\n",
       "      <th>1</th>\n",
       "      <td>Africa_Eastern</td>\n",
       "      <td>1990</td>\n",
       "      <td>145593.0</td>\n",
       "    </tr>\n",
       "    <tr>\n",
       "      <th>2</th>\n",
       "      <td>Africa_Eastern</td>\n",
       "      <td>2005</td>\n",
       "      <td>222829.0</td>\n",
       "    </tr>\n",
       "    <tr>\n",
       "      <th>3</th>\n",
       "      <td>Africa_Eastern</td>\n",
       "      <td>2010</td>\n",
       "      <td>255333.0</td>\n",
       "    </tr>\n",
       "    <tr>\n",
       "      <th>4</th>\n",
       "      <td>Africa_Eastern</td>\n",
       "      <td>2015</td>\n",
       "      <td>292560.0</td>\n",
       "    </tr>\n",
       "    <tr>\n",
       "      <th>5</th>\n",
       "      <td>Africa_Eastern</td>\n",
       "      <td>2020</td>\n",
       "      <td>327652.0</td>\n",
       "    </tr>\n",
       "    <tr>\n",
       "      <th>6</th>\n",
       "      <td>Africa_Northern</td>\n",
       "      <td>1975</td>\n",
       "      <td>81330.0</td>\n",
       "    </tr>\n",
       "  </tbody>\n",
       "</table>\n",
       "</div>"
      ],
      "text/plain": [
       "            region  year  totalPop\n",
       "0   Africa_Eastern  1975   91890.0\n",
       "1   Africa_Eastern  1990  145593.0\n",
       "2   Africa_Eastern  2005  222829.0\n",
       "3   Africa_Eastern  2010  255333.0\n",
       "4   Africa_Eastern  2015  292560.0\n",
       "5   Africa_Eastern  2020  327652.0\n",
       "6  Africa_Northern  1975   81330.0"
      ]
     },
     "execution_count": 16,
     "metadata": {},
     "output_type": "execute_result"
    }
   ],
   "source": [
    "# create an output data frame containing land data\n",
    "pop_df = gcam.get_data(pop_query, pop_get_query_params)\n",
    "\n",
    "pop_df.head(7)\n"
   ]
  },
  {
   "cell_type": "markdown",
   "id": "fbe72ea1-b434-4309-bc4e-761e808ed960",
   "metadata": {},
   "source": [
    "### Let's use Ag prices as an indicator of change and check out year 2020 without updates first for the US"
   ]
  },
  {
   "cell_type": "code",
   "execution_count": 17,
   "id": "aa094582-5616-4b40-a136-a90afb01ab74",
   "metadata": {},
   "outputs": [
    {
     "data": {
      "text/html": [
       "<div>\n",
       "<style scoped>\n",
       "    .dataframe tbody tr th:only-of-type {\n",
       "        vertical-align: middle;\n",
       "    }\n",
       "\n",
       "    .dataframe tbody tr th {\n",
       "        vertical-align: top;\n",
       "    }\n",
       "\n",
       "    .dataframe thead th {\n",
       "        text-align: right;\n",
       "    }\n",
       "</style>\n",
       "<table border=\"1\" class=\"dataframe\">\n",
       "  <thead>\n",
       "    <tr style=\"text-align: right;\">\n",
       "      <th></th>\n",
       "      <th>region</th>\n",
       "      <th>sector</th>\n",
       "      <th>year</th>\n",
       "      <th>price</th>\n",
       "    </tr>\n",
       "  </thead>\n",
       "  <tbody>\n",
       "    <tr>\n",
       "      <th>31</th>\n",
       "      <td>USA</td>\n",
       "      <td>Corn</td>\n",
       "      <td>2020</td>\n",
       "      <td>0.061234</td>\n",
       "    </tr>\n",
       "  </tbody>\n",
       "</table>\n",
       "</div>"
      ],
      "text/plain": [
       "   region sector  year     price\n",
       "31    USA   Corn  2020  0.061234"
      ]
     },
     "execution_count": 17,
     "metadata": {},
     "output_type": "execute_result"
    }
   ],
   "source": [
    "# get Corn producer prices\n",
    "ag_get_query_string = gw.get_query('ag', 'prices')\n",
    "\n",
    "ag_get_query_params = {'region': ['*'], \n",
    "                       'sector': ['=', 'Corn'], \n",
    "                       'year': ['=', gcam.get_current_year()]}\n",
    "\n",
    "prod_prices_old = gcam.get_data(ag_get_query_string, ag_get_query_params)\n",
    "\n",
    "prod_prices_old.loc[prod_prices_old['region'] == 'USA']\n"
   ]
  },
  {
   "cell_type": "markdown",
   "id": "12a838ee-36a6-4586-84b8-1eb86bfc43fb",
   "metadata": {},
   "source": [
    "### Modify our population and GDP data for testing"
   ]
  },
  {
   "cell_type": "code",
   "execution_count": 18,
   "id": "ae253945-237d-4a30-9026-b9da1e88dc9c",
   "metadata": {},
   "outputs": [
    {
     "data": {
      "text/html": [
       "<div>\n",
       "<style scoped>\n",
       "    .dataframe tbody tr th:only-of-type {\n",
       "        vertical-align: middle;\n",
       "    }\n",
       "\n",
       "    .dataframe tbody tr th {\n",
       "        vertical-align: top;\n",
       "    }\n",
       "\n",
       "    .dataframe thead th {\n",
       "        text-align: right;\n",
       "    }\n",
       "</style>\n",
       "<table border=\"1\" class=\"dataframe\">\n",
       "  <thead>\n",
       "    <tr style=\"text-align: right;\">\n",
       "      <th></th>\n",
       "      <th>region</th>\n",
       "      <th>year</th>\n",
       "      <th>totalPop</th>\n",
       "    </tr>\n",
       "  </thead>\n",
       "  <tbody>\n",
       "    <tr>\n",
       "      <th>0</th>\n",
       "      <td>Africa_Eastern</td>\n",
       "      <td>1975</td>\n",
       "      <td>105674.0</td>\n",
       "    </tr>\n",
       "    <tr>\n",
       "      <th>1</th>\n",
       "      <td>Africa_Eastern</td>\n",
       "      <td>1990</td>\n",
       "      <td>167432.0</td>\n",
       "    </tr>\n",
       "    <tr>\n",
       "      <th>2</th>\n",
       "      <td>Africa_Eastern</td>\n",
       "      <td>2005</td>\n",
       "      <td>256253.0</td>\n",
       "    </tr>\n",
       "    <tr>\n",
       "      <th>3</th>\n",
       "      <td>Africa_Eastern</td>\n",
       "      <td>2010</td>\n",
       "      <td>293633.0</td>\n",
       "    </tr>\n",
       "    <tr>\n",
       "      <th>4</th>\n",
       "      <td>Africa_Eastern</td>\n",
       "      <td>2015</td>\n",
       "      <td>336444.0</td>\n",
       "    </tr>\n",
       "    <tr>\n",
       "      <th>5</th>\n",
       "      <td>Africa_Eastern</td>\n",
       "      <td>2020</td>\n",
       "      <td>376800.0</td>\n",
       "    </tr>\n",
       "    <tr>\n",
       "      <th>6</th>\n",
       "      <td>Africa_Northern</td>\n",
       "      <td>1975</td>\n",
       "      <td>93530.0</td>\n",
       "    </tr>\n",
       "  </tbody>\n",
       "</table>\n",
       "</div>"
      ],
      "text/plain": [
       "            region  year  totalPop\n",
       "0   Africa_Eastern  1975  105674.0\n",
       "1   Africa_Eastern  1990  167432.0\n",
       "2   Africa_Eastern  2005  256253.0\n",
       "3   Africa_Eastern  2010  293633.0\n",
       "4   Africa_Eastern  2015  336444.0\n",
       "5   Africa_Eastern  2020  376800.0\n",
       "6  Africa_Northern  1975   93530.0"
      ]
     },
     "execution_count": 18,
     "metadata": {},
     "output_type": "execute_result"
    }
   ],
   "source": [
    "# make a copy of the population data\n",
    "x_pop_df = pop_df.copy()\n",
    "\n",
    "# grow population globally by 15% to test\n",
    "x_pop_df['totalPop'] = round((x_pop_df['totalPop'] * 0.15) + x_pop_df['totalPop'], 0)\n",
    "\n",
    "x_pop_df.head(7)\n"
   ]
  },
  {
   "cell_type": "code",
   "execution_count": 19,
   "id": "70952d12-0356-438c-b630-fd9a0d231e22",
   "metadata": {},
   "outputs": [
    {
     "data": {
      "text/html": [
       "<div>\n",
       "<style scoped>\n",
       "    .dataframe tbody tr th:only-of-type {\n",
       "        vertical-align: middle;\n",
       "    }\n",
       "\n",
       "    .dataframe tbody tr th {\n",
       "        vertical-align: top;\n",
       "    }\n",
       "\n",
       "    .dataframe thead th {\n",
       "        text-align: right;\n",
       "    }\n",
       "</style>\n",
       "<table border=\"1\" class=\"dataframe\">\n",
       "  <thead>\n",
       "    <tr style=\"text-align: right;\">\n",
       "      <th></th>\n",
       "      <th>region</th>\n",
       "      <th>year</th>\n",
       "      <th>laborproductivity</th>\n",
       "    </tr>\n",
       "  </thead>\n",
       "  <tbody>\n",
       "    <tr>\n",
       "      <th>0</th>\n",
       "      <td>Africa_Eastern</td>\n",
       "      <td>1975</td>\n",
       "      <td>0.001463</td>\n",
       "    </tr>\n",
       "    <tr>\n",
       "      <th>1</th>\n",
       "      <td>Africa_Eastern</td>\n",
       "      <td>1990</td>\n",
       "      <td>0.001463</td>\n",
       "    </tr>\n",
       "    <tr>\n",
       "      <th>2</th>\n",
       "      <td>Africa_Eastern</td>\n",
       "      <td>2005</td>\n",
       "      <td>0.011552</td>\n",
       "    </tr>\n",
       "    <tr>\n",
       "      <th>3</th>\n",
       "      <td>Africa_Eastern</td>\n",
       "      <td>2010</td>\n",
       "      <td>0.037297</td>\n",
       "    </tr>\n",
       "    <tr>\n",
       "      <th>4</th>\n",
       "      <td>Africa_Eastern</td>\n",
       "      <td>2015</td>\n",
       "      <td>0.019807</td>\n",
       "    </tr>\n",
       "    <tr>\n",
       "      <th>5</th>\n",
       "      <td>Africa_Eastern</td>\n",
       "      <td>2020</td>\n",
       "      <td>0.018544</td>\n",
       "    </tr>\n",
       "    <tr>\n",
       "      <th>6</th>\n",
       "      <td>Africa_Northern</td>\n",
       "      <td>1975</td>\n",
       "      <td>0.027075</td>\n",
       "    </tr>\n",
       "  </tbody>\n",
       "</table>\n",
       "</div>"
      ],
      "text/plain": [
       "            region  year  laborproductivity\n",
       "0   Africa_Eastern  1975           0.001463\n",
       "1   Africa_Eastern  1990           0.001463\n",
       "2   Africa_Eastern  2005           0.011552\n",
       "3   Africa_Eastern  2010           0.037297\n",
       "4   Africa_Eastern  2015           0.019807\n",
       "5   Africa_Eastern  2020           0.018544\n",
       "6  Africa_Northern  1975           0.027075"
      ]
     },
     "execution_count": 19,
     "metadata": {},
     "output_type": "execute_result"
    }
   ],
   "source": [
    "# make a copy of the GDP data\n",
    "x_gdp_df = gdp_df.copy()\n",
    "\n",
    "# shrink GDP globally by 5% to test\n",
    "x_gdp_df['laborproductivity'] = x_gdp_df['laborproductivity'] - (x_gdp_df['laborproductivity'] * 0.05)\n",
    "\n",
    "x_gdp_df.head(7)\n"
   ]
  },
  {
   "cell_type": "markdown",
   "id": "2f464ff5-31fb-4661-9e5d-6ae6f5418174",
   "metadata": {},
   "source": [
    "### Set new values using our modified data"
   ]
  },
  {
   "cell_type": "code",
   "execution_count": 21,
   "id": "e1241653-8375-4902-9c9f-4b7057850dd3",
   "metadata": {},
   "outputs": [],
   "source": [
    "# The syntax for the query params are slightly different for set data as we\n",
    "#   need to explicitly tell it which match with the '+' argument and of course we do\n",
    "#   not give the values to compare against as those are coming from the DataFrame\n",
    "gdp_set_query_params = {'region': ['+', '='], \n",
    "                        'year': ['+', '=']}\n",
    "\n",
    "gcam.set_data(x_gdp_df, gdp_query, gdp_set_query_params)\n"
   ]
  },
  {
   "cell_type": "code",
   "execution_count": 22,
   "id": "035ce36a-ceab-49a6-9b10-d13ebf536fb4",
   "metadata": {},
   "outputs": [],
   "source": [
    "pop_set_query_params = {'region': ['+', '='], \n",
    "                    'year': ['+', '=']}\n",
    "\n",
    "gcam.set_data(x_pop_df, pop_query, pop_set_query_params)\n"
   ]
  },
  {
   "cell_type": "markdown",
   "id": "cd6ca6eb-aa48-4519-b682-10795a93b027",
   "metadata": {},
   "source": [
    "### Re-run current year (2020) with the updated data"
   ]
  },
  {
   "cell_type": "code",
   "execution_count": 23,
   "id": "5f015337-ddea-4d73-93c8-fea14532cb87",
   "metadata": {},
   "outputs": [
    {
     "name": "stdout",
     "output_type": "stream",
     "text": [
      "Starting a model run. Running period 5\n",
      "Model run beginning.\n",
      "Period 5: 2020\n",
      "Model solved normally. Iterations period 5: 1372. Total iterations: 2314\n",
      "\n",
      "All model periods solved correctly.\n",
      "Model run completed.\n"
     ]
    }
   ],
   "source": [
    "gcam.run_to_period(gcam.get_current_period())\n"
   ]
  },
  {
   "cell_type": "markdown",
   "id": "20f793ab-83dd-4856-8ab9-5d395418f705",
   "metadata": {},
   "source": [
    "### Investigate updates"
   ]
  },
  {
   "cell_type": "code",
   "execution_count": 24,
   "id": "7cf06d0b-20cf-413e-abb8-356fbe103af4",
   "metadata": {},
   "outputs": [
    {
     "data": {
      "text/html": [
       "<div>\n",
       "<style scoped>\n",
       "    .dataframe tbody tr th:only-of-type {\n",
       "        vertical-align: middle;\n",
       "    }\n",
       "\n",
       "    .dataframe tbody tr th {\n",
       "        vertical-align: top;\n",
       "    }\n",
       "\n",
       "    .dataframe thead th {\n",
       "        text-align: right;\n",
       "    }\n",
       "</style>\n",
       "<table border=\"1\" class=\"dataframe\">\n",
       "  <thead>\n",
       "    <tr style=\"text-align: right;\">\n",
       "      <th></th>\n",
       "      <th>region</th>\n",
       "      <th>year</th>\n",
       "      <th>totalPop</th>\n",
       "    </tr>\n",
       "  </thead>\n",
       "  <tbody>\n",
       "    <tr>\n",
       "      <th>0</th>\n",
       "      <td>Africa_Eastern</td>\n",
       "      <td>1975</td>\n",
       "      <td>105674.0</td>\n",
       "    </tr>\n",
       "    <tr>\n",
       "      <th>1</th>\n",
       "      <td>Africa_Eastern</td>\n",
       "      <td>1990</td>\n",
       "      <td>167432.0</td>\n",
       "    </tr>\n",
       "    <tr>\n",
       "      <th>2</th>\n",
       "      <td>Africa_Eastern</td>\n",
       "      <td>2005</td>\n",
       "      <td>256253.0</td>\n",
       "    </tr>\n",
       "    <tr>\n",
       "      <th>3</th>\n",
       "      <td>Africa_Eastern</td>\n",
       "      <td>2010</td>\n",
       "      <td>293633.0</td>\n",
       "    </tr>\n",
       "    <tr>\n",
       "      <th>4</th>\n",
       "      <td>Africa_Eastern</td>\n",
       "      <td>2015</td>\n",
       "      <td>336444.0</td>\n",
       "    </tr>\n",
       "    <tr>\n",
       "      <th>5</th>\n",
       "      <td>Africa_Eastern</td>\n",
       "      <td>2020</td>\n",
       "      <td>376800.0</td>\n",
       "    </tr>\n",
       "    <tr>\n",
       "      <th>6</th>\n",
       "      <td>Africa_Northern</td>\n",
       "      <td>1975</td>\n",
       "      <td>93530.0</td>\n",
       "    </tr>\n",
       "  </tbody>\n",
       "</table>\n",
       "</div>"
      ],
      "text/plain": [
       "            region  year  totalPop\n",
       "0   Africa_Eastern  1975  105674.0\n",
       "1   Africa_Eastern  1990  167432.0\n",
       "2   Africa_Eastern  2005  256253.0\n",
       "3   Africa_Eastern  2010  293633.0\n",
       "4   Africa_Eastern  2015  336444.0\n",
       "5   Africa_Eastern  2020  376800.0\n",
       "6  Africa_Northern  1975   93530.0"
      ]
     },
     "execution_count": 24,
     "metadata": {},
     "output_type": "execute_result"
    }
   ],
   "source": [
    "updated_pop_df = gcam.get_data(pop_query, pop_get_query_params)\n",
    "\n",
    "updated_pop_df.head(7)\n"
   ]
  },
  {
   "cell_type": "code",
   "execution_count": 25,
   "id": "8f057343-705d-472d-add1-efb31f8517a4",
   "metadata": {},
   "outputs": [
    {
     "data": {
      "text/html": [
       "<div>\n",
       "<style scoped>\n",
       "    .dataframe tbody tr th:only-of-type {\n",
       "        vertical-align: middle;\n",
       "    }\n",
       "\n",
       "    .dataframe tbody tr th {\n",
       "        vertical-align: top;\n",
       "    }\n",
       "\n",
       "    .dataframe thead th {\n",
       "        text-align: right;\n",
       "    }\n",
       "</style>\n",
       "<table border=\"1\" class=\"dataframe\">\n",
       "  <thead>\n",
       "    <tr style=\"text-align: right;\">\n",
       "      <th></th>\n",
       "      <th>region</th>\n",
       "      <th>year</th>\n",
       "      <th>laborproductivity</th>\n",
       "    </tr>\n",
       "  </thead>\n",
       "  <tbody>\n",
       "    <tr>\n",
       "      <th>0</th>\n",
       "      <td>Africa_Eastern</td>\n",
       "      <td>1975</td>\n",
       "      <td>0.001463</td>\n",
       "    </tr>\n",
       "    <tr>\n",
       "      <th>1</th>\n",
       "      <td>Africa_Eastern</td>\n",
       "      <td>1990</td>\n",
       "      <td>0.001463</td>\n",
       "    </tr>\n",
       "    <tr>\n",
       "      <th>2</th>\n",
       "      <td>Africa_Eastern</td>\n",
       "      <td>2005</td>\n",
       "      <td>0.011552</td>\n",
       "    </tr>\n",
       "    <tr>\n",
       "      <th>3</th>\n",
       "      <td>Africa_Eastern</td>\n",
       "      <td>2010</td>\n",
       "      <td>0.037297</td>\n",
       "    </tr>\n",
       "    <tr>\n",
       "      <th>4</th>\n",
       "      <td>Africa_Eastern</td>\n",
       "      <td>2015</td>\n",
       "      <td>0.019807</td>\n",
       "    </tr>\n",
       "    <tr>\n",
       "      <th>5</th>\n",
       "      <td>Africa_Eastern</td>\n",
       "      <td>2020</td>\n",
       "      <td>0.018544</td>\n",
       "    </tr>\n",
       "    <tr>\n",
       "      <th>6</th>\n",
       "      <td>Africa_Northern</td>\n",
       "      <td>1975</td>\n",
       "      <td>0.027075</td>\n",
       "    </tr>\n",
       "  </tbody>\n",
       "</table>\n",
       "</div>"
      ],
      "text/plain": [
       "            region  year  laborproductivity\n",
       "0   Africa_Eastern  1975           0.001463\n",
       "1   Africa_Eastern  1990           0.001463\n",
       "2   Africa_Eastern  2005           0.011552\n",
       "3   Africa_Eastern  2010           0.037297\n",
       "4   Africa_Eastern  2015           0.019807\n",
       "5   Africa_Eastern  2020           0.018544\n",
       "6  Africa_Northern  1975           0.027075"
      ]
     },
     "execution_count": 25,
     "metadata": {},
     "output_type": "execute_result"
    }
   ],
   "source": [
    "updated_gdp_df = gcam.get_data(gdp_query, gdp_get_query_params)\n",
    "\n",
    "updated_gdp_df.head(7)"
   ]
  },
  {
   "cell_type": "markdown",
   "id": "1cc3e63b-0b53-4830-8cc6-0f4c7bc7b63c",
   "metadata": {},
   "source": [
    "### See if Ag prices changed"
   ]
  },
  {
   "cell_type": "code",
   "execution_count": 36,
   "id": "e2609f9d-2e61-4d8a-82c7-1c46a39da8f1",
   "metadata": {},
   "outputs": [
    {
     "name": "stdout",
     "output_type": "stream",
     "text": [
      "Corn price in the USA changed from 0.0612 to 0.0607 after the updates to population and GDP were applied.\n"
     ]
    }
   ],
   "source": [
    "# get updated corn producer prices\n",
    "prod_prices_new = gcam.get_data(ag_get_query_string, ag_get_query_params)\n",
    "\n",
    "old_price = prod_prices_old.loc[prod_prices_old['region'] == 'USA']['price'].values[0].round(4)\n",
    "new_price = prod_prices_new.loc[prod_prices_new['region'] == 'USA']['price'].values[0].round(4)\n",
    "\n",
    "print(f\"Corn price in the USA changed from {old_price} to {new_price} after the updates to population and GDP were applied.\")\n"
   ]
  },
  {
   "cell_type": "code",
   "execution_count": null,
   "id": "7cf55403-c8fb-4764-87f3-1d092eb3b561",
   "metadata": {},
   "outputs": [],
   "source": []
  },
  {
   "cell_type": "markdown",
   "id": "4e4a2214-3096-454b-aea2-6772ca1d92ad",
   "metadata": {},
   "source": [
    "# !REVISIT ONCE NEW DATA HAS BEEN PROVIDED!\n",
    "# Let's try with the sample data you provided"
   ]
  },
  {
   "cell_type": "markdown",
   "id": "0a760e8d-5ba2-4409-a6f2-1c09f86cd607",
   "metadata": {},
   "source": [
    "### Loading the sample data you provided"
   ]
  },
  {
   "cell_type": "code",
   "execution_count": 41,
   "id": "a78db920-bc12-4b4b-a83e-9022660366fd",
   "metadata": {},
   "outputs": [],
   "source": [
    "new_gdp_file = '/home/msdadmin/repos/gcam_demeter_clinic/gcam_demeter_clinic/data/test_gdp_1.csv'\n",
    "new_pop_file = '/home/msdadmin/repos/gcam_demeter_clinic/gcam_demeter_clinic/data/test_population_1.csv'\n",
    "\n",
    "new_gdp_df = pd.read_csv(new_gdp_file)\n",
    "new_pop_df = pd.read_csv(new_pop_file)\n"
   ]
  },
  {
   "cell_type": "markdown",
   "id": "5466559a-924d-4153-8ec0-aff059cab2e5",
   "metadata": {},
   "source": [
    "#### Population"
   ]
  },
  {
   "cell_type": "code",
   "execution_count": 42,
   "id": "07e42fc1-9db5-441d-bc3e-1763f51a7aba",
   "metadata": {},
   "outputs": [
    {
     "data": {
      "text/html": [
       "<div>\n",
       "<style scoped>\n",
       "    .dataframe tbody tr th:only-of-type {\n",
       "        vertical-align: middle;\n",
       "    }\n",
       "\n",
       "    .dataframe tbody tr th {\n",
       "        vertical-align: top;\n",
       "    }\n",
       "\n",
       "    .dataframe thead th {\n",
       "        text-align: right;\n",
       "    }\n",
       "</style>\n",
       "<table border=\"1\" class=\"dataframe\">\n",
       "  <thead>\n",
       "    <tr style=\"text-align: right;\">\n",
       "      <th></th>\n",
       "      <th>gcam_region</th>\n",
       "      <th>2020</th>\n",
       "    </tr>\n",
       "  </thead>\n",
       "  <tbody>\n",
       "    <tr>\n",
       "      <th>0</th>\n",
       "      <td>1</td>\n",
       "      <td>11.146</td>\n",
       "    </tr>\n",
       "    <tr>\n",
       "      <th>1</th>\n",
       "      <td>2</td>\n",
       "      <td>243.800</td>\n",
       "    </tr>\n",
       "    <tr>\n",
       "      <th>2</th>\n",
       "      <td>3</td>\n",
       "      <td>49.692</td>\n",
       "    </tr>\n",
       "    <tr>\n",
       "      <th>3</th>\n",
       "      <td>4</td>\n",
       "      <td>303.280</td>\n",
       "    </tr>\n",
       "    <tr>\n",
       "      <th>4</th>\n",
       "      <td>5</td>\n",
       "      <td>572.650</td>\n",
       "    </tr>\n",
       "  </tbody>\n",
       "</table>\n",
       "</div>"
      ],
      "text/plain": [
       "   gcam_region     2020\n",
       "0            1   11.146\n",
       "1            2  243.800\n",
       "2            3   49.692\n",
       "3            4  303.280\n",
       "4            5  572.650"
      ]
     },
     "execution_count": 42,
     "metadata": {},
     "output_type": "execute_result"
    }
   ],
   "source": [
    "new_pop_df = new_pop_df[['gcam_region', f'{gcam.get_current_year()}']].copy()\n",
    "\n",
    "new_pop_df.head()\n"
   ]
  },
  {
   "cell_type": "markdown",
   "id": "7cf7e8ca-92b7-434b-9601-2b0093020084",
   "metadata": {},
   "source": [
    "#### GDP"
   ]
  },
  {
   "cell_type": "code",
   "execution_count": 40,
   "id": "6bcc4367-9650-4eba-a4d8-539f45ab9495",
   "metadata": {},
   "outputs": [
    {
     "data": {
      "text/html": [
       "<div>\n",
       "<style scoped>\n",
       "    .dataframe tbody tr th:only-of-type {\n",
       "        vertical-align: middle;\n",
       "    }\n",
       "\n",
       "    .dataframe tbody tr th {\n",
       "        vertical-align: top;\n",
       "    }\n",
       "\n",
       "    .dataframe thead th {\n",
       "        text-align: right;\n",
       "    }\n",
       "</style>\n",
       "<table border=\"1\" class=\"dataframe\">\n",
       "  <thead>\n",
       "    <tr style=\"text-align: right;\">\n",
       "      <th></th>\n",
       "      <th>gcam_region</th>\n",
       "      <th>2020</th>\n",
       "    </tr>\n",
       "  </thead>\n",
       "  <tbody>\n",
       "    <tr>\n",
       "      <th>0</th>\n",
       "      <td>1</td>\n",
       "      <td>12301700</td>\n",
       "    </tr>\n",
       "    <tr>\n",
       "      <th>1</th>\n",
       "      <td>2</td>\n",
       "      <td>187115</td>\n",
       "    </tr>\n",
       "    <tr>\n",
       "      <th>2</th>\n",
       "      <td>3</td>\n",
       "      <td>515864</td>\n",
       "    </tr>\n",
       "    <tr>\n",
       "      <th>3</th>\n",
       "      <td>4</td>\n",
       "      <td>172719</td>\n",
       "    </tr>\n",
       "    <tr>\n",
       "      <th>4</th>\n",
       "      <td>5</td>\n",
       "      <td>565196</td>\n",
       "    </tr>\n",
       "  </tbody>\n",
       "</table>\n",
       "</div>"
      ],
      "text/plain": [
       "   gcam_region      2020\n",
       "0            1  12301700\n",
       "1            2    187115\n",
       "2            3    515864\n",
       "3            4    172719\n",
       "4            5    565196"
      ]
     },
     "execution_count": 40,
     "metadata": {},
     "output_type": "execute_result"
    }
   ],
   "source": [
    "new_gdp_df = new_gdp_df[['gcam_region', f'{gcam.get_current_year()}']].copy()\n",
    "\n",
    "new_gdp_df.head()\n"
   ]
  },
  {
   "cell_type": "code",
   "execution_count": null,
   "id": "8d907d0e-4d17-4363-9272-72b14fe007c9",
   "metadata": {},
   "outputs": [],
   "source": []
  }
 ],
 "metadata": {
  "kernelspec": {
   "display_name": "Python 3",
   "language": "python",
   "name": "python3"
  },
  "language_info": {
   "codemirror_mode": {
    "name": "ipython",
    "version": 3
   },
   "file_extension": ".py",
   "mimetype": "text/x-python",
   "name": "python",
   "nbconvert_exporter": "python",
   "pygments_lexer": "ipython3",
   "version": "3.8.10"
  }
 },
 "nbformat": 4,
 "nbformat_minor": 5
}
