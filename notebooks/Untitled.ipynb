{
 "cells": [
  {
   "cell_type": "code",
   "execution_count": 1,
   "id": "41157745-39c0-404f-b977-06a58ebf22af",
   "metadata": {},
   "outputs": [],
   "source": [
    "# general purpose package\n",
    "import time\n",
    "import pkg_resources\n",
    "\n",
    "import pandas as pd\n",
    "import geopandas as gpd\n",
    "\n",
    "# load GCAM via gcamwrapper\n",
    "import gcamwrapper as gw"
   ]
  },
  {
   "cell_type": "code",
   "execution_count": 5,
   "id": "0aa13795-45fc-455b-99f4-2124e4c06496",
   "metadata": {},
   "outputs": [],
   "source": [
    "# path to the exe directory where gcam-core is installed\n",
    "core_exe_path = '/home/msdadmin/csdms_demo/gcam-core/exe'\n",
    "\n",
    "# path to the xml configuration file you want to use\n",
    "config_xml_file = 'configuration_reduced.xml'"
   ]
  },
  {
   "cell_type": "code",
   "execution_count": null,
   "id": "f4deef82-e7e6-45e7-9ea9-83b90e2d4834",
   "metadata": {},
   "outputs": [],
   "source": [
    "%%time\n",
    "\n",
    "g = gw.Gcam(config_xml_file, core_exe_path)"
   ]
  },
  {
   "cell_type": "code",
   "execution_count": 3,
   "id": "b55c84f3-399c-4e0e-a8ef-2ce891e61c4d",
   "metadata": {},
   "outputs": [
    {
     "name": "stdout",
     "output_type": "stream",
     "text": [
      "/usr/local/lib/python3.8/dist-packages/gcamwrapper/__init__.py\n"
     ]
    }
   ],
   "source": [
    "print(gw.__file__)"
   ]
  },
  {
   "cell_type": "code",
   "execution_count": null,
   "id": "e3e8d2df-17f2-41d1-b733-68804705882e",
   "metadata": {},
   "outputs": [],
   "source": []
  }
 ],
 "metadata": {
  "kernelspec": {
   "display_name": "Python 3",
   "language": "python",
   "name": "python3"
  },
  "language_info": {
   "codemirror_mode": {
    "name": "ipython",
    "version": 3
   },
   "file_extension": ".py",
   "mimetype": "text/x-python",
   "name": "python",
   "nbconvert_exporter": "python",
   "pygments_lexer": "ipython3",
   "version": "3.8.10"
  }
 },
 "nbformat": 4,
 "nbformat_minor": 5
}
