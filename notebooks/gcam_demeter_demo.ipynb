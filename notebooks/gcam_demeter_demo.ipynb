{
 "cells": [
  {
   "cell_type": "markdown",
   "metadata": {},
   "source": [
    "<img src=\"../img/banner.png\" alt=\"Powered by MSD-LIVE\" width = 600 style=\"display: block;margin-left: auto;margin-right: auto;width: 50%;\" />\n"
   ]
  },
  {
   "cell_type": "markdown",
   "metadata": {},
   "source": [
    "# CSDMS 2021 Annual Meeting"
   ]
  },
  {
   "cell_type": "markdown",
   "metadata": {},
   "source": [
    "### CLINIC:  Thursday, May 20 11:00am - 1pm MST"
   ]
  },
  {
   "cell_type": "markdown",
   "metadata": {},
   "source": [
    "## GCAM and Demeter:  A global, integrated human-Earth systems perspective to modeling land projections"
   ]
  },
  {
   "cell_type": "markdown",
   "metadata": {},
   "source": [
    "### Pralit Patel, pralit.patel<span></span>@pnnl.gov and Chris Vernon, chris.vernon<span></span>@pnnl.gov"
   ]
  },
  {
   "cell_type": "markdown",
   "metadata": {},
   "source": [
    "Researchers and decision makers are increasingly interested in understanding the many ways in which human and Earth systems interact with one another, at scales from local (e.g., a city) to regional to global. For example, how might changes in population, income, or technology development alter crop production, energy demand, or water withdrawals? How do changes in one region's demand for energy affect energy, water, and land in other regions? This session will focus on two models – GCAM and Demeter – that provide capabilities to address these types of questions.\n",
    "\n",
    "\n",
    "GCAM is an open-source, global, market equilibrium model that represents the linkages between energy, water, land, climate, and economic systems. A strength of GCAM is that it can be used to quickly explore, and quantify the uncertainty in, a large number of alternate future scenarios while accounting for multi-sector, human-Earth system dynamics. One of GCAM’s many outputs is projected land cover/use by subregion. Subregional projections provide context and can be used to understand regional land dynamics; however, Earth System Models (ESMs) generally require gridded representations of land at finer scales. Demeter, a land use and land cover disaggregation model, was created to provide this service. Demeter directly ingests land projections from GCAM and creates gridded products that match the desired resolution and land class requirements of the user.\n",
    "\n",
    "This clinic will introduce both GCAM and Demeter at a high-level. We will also provide a hands-on walk through for a reference case so attendees can become familiar with configuring and running these two models. Our goal will be for attendees to leave the clinic with an understanding of 1) the value of capturing a global perspective when informing subregional and local analysis, 2) possibilities to conduct scenario exploration experiments that capture multi-sector/scale dynamics, 3) and a hands-on experience with GCAM and Demeter."
   ]
  },
  {
   "cell_type": "markdown",
   "metadata": {},
   "source": [
    "## Software Availability"
   ]
  },
  {
   "cell_type": "markdown",
   "metadata": {},
   "source": [
    "Demeter: https://github.com/JGCRI/demeter  \n",
    "GCAM: https://github.com/JGCRI/gcam-core  \n",
    "gcamwrapper: https://github.com/JGCRI/gcamwrapper  \n",
    "im3vis: https://github.com/IMMM-SFA/im3vis\n"
   ]
  },
  {
   "cell_type": "markdown",
   "metadata": {},
   "source": [
    "# Value of this demonstration"
   ]
  },
  {
   "cell_type": "markdown",
   "metadata": {},
   "source": [
    "Demonstrate how to integrate GCAM - using its new Python wrapper - into existing workflows that research energy, water, land, climate, and socioeconomic dynamics to provide a global, human-Earth perspective."
   ]
  },
  {
   "cell_type": "markdown",
   "metadata": {},
   "source": [
    "## Overview of the experiment to demonstrate capabilities"
   ]
  },
  {
   "cell_type": "markdown",
   "metadata": {},
   "source": [
    "For this demonstration we will attempt to incorporate climate changed induced yield impacts in GCAM.  To do so we will utilize an archive of global gridded crop model results published as part of the [ISI-MIP](https://doi.org/10.1073/pnas.1222463110) project.  While this exercise has been conducted before: [Snyder 2020](https://doi.org/10.1371/journal.pone.0237918), [Calvin 2020](https://doi.org/10.1142/S2010007820500050).  A short coming in the design of these experiments is that they assume a fixed map of crop production which is used to weight the gridded yield impacts.  Similar studies such as [Fujimori 2018](https://doi.org/10.3390/su10103673) have indicated missing this dynamic can create significant bias.\n",
    "\n",
    "We can use the dynamic GCAM - Demeter coupling to address this short coming by updating the map of where GCAM+Demeter is projecting the crops are now grown.  Which we attempt to do in this demonstration.  With the caveat that quite a number of simplifying assumptions were made to ensure computational tractability."
   ]
  },
  {
   "cell_type": "markdown",
   "metadata": {},
   "source": [
    "### Outline"
   ]
  },
  {
   "cell_type": "markdown",
   "metadata": {},
   "source": [
    "- Load and initialize GCAM through its calibration years\n",
    "  - Visualizations of GCAM land use results\n",
    "- Load Demeter and downscale GCAM land use decisions\n",
    "- Run and query the first projected GCAM results _without_ climate impacts\n",
    "  - Query results for comparison\n",
    "- Load ISIMIP yields and weight by Demeter crop maps\n",
    "- Apply yield impacts and re-run GCAM\n",
    "- Compare results with and without climate impacts"
   ]
  },
  {
   "cell_type": "markdown",
   "metadata": {},
   "source": [
    "# Import packages"
   ]
  },
  {
   "cell_type": "code",
   "execution_count": null,
   "metadata": {},
   "outputs": [],
   "source": [
    "# general purpose package\n",
    "import time\n",
    "import pkg_resources\n",
    "\n",
    "import pandas as pd\n",
    "import geopandas as gpd\n",
    "\n",
    "# load demeter and GCAM via gcamwrapper\n",
    "import demeter\n",
    "from demeter import Model\n",
    "import gcamwrapper as gw\n",
    "\n",
    "# some utilities to help keep the notebook tidy\n",
    "import im3vis\n",
    "import demo_utils\n",
    "import gcam_demeter_clinic\n"
   ]
  },
  {
   "cell_type": "markdown",
   "metadata": {},
   "source": [
    "# Using GCAM via `gcamwrapper`"
   ]
  },
  {
   "cell_type": "markdown",
   "metadata": {},
   "source": [
    "#### Load GCAM specific files"
   ]
  },
  {
   "cell_type": "code",
   "execution_count": null,
   "metadata": {},
   "outputs": [],
   "source": [
    "# path to the exe directory where gcam-core is installed\n",
    "core_exe_path = 'gcam-core/exe'\n",
    "\n",
    "# path to the xml configuration file you want to use\n",
    "config_xml_file = 'configuration_reduced.xml'\n"
   ]
  },
  {
   "cell_type": "markdown",
   "metadata": {},
   "source": [
    "#### Instantiate GCAM"
   ]
  },
  {
   "cell_type": "code",
   "execution_count": null,
   "metadata": {},
   "outputs": [],
   "source": [
    "%%time\n",
    "\n",
    "g = gw.Gcam(config_xml_file, core_exe_path)\n"
   ]
  },
  {
   "cell_type": "markdown",
   "metadata": {},
   "source": [
    "#### Run the model through its calibration years through the base year of 2015"
   ]
  },
  {
   "cell_type": "code",
   "execution_count": null,
   "metadata": {},
   "outputs": [],
   "source": [
    "%%time\n",
    "\n",
    "final_cal_period = g.convert_year_to_period(2015)\n",
    "g.run_to_period(final_cal_period)\n"
   ]
  },
  {
   "cell_type": "markdown",
   "metadata": {},
   "source": [
    "#### Query land allocation data from the current GCAM run to produce projected land allocation by land region"
   ]
  },
  {
   "cell_type": "code",
   "execution_count": null,
   "metadata": {},
   "outputs": [],
   "source": [
    "# load query from query library\n",
    "query_string = gw.get_query('land', 'land_allocation')\n",
    "\n",
    "# query specific information\n",
    "query_params = {'region': ['*'], 'leaf': ['*'], 'year': ['<=', g.get_current_year()]}\n",
    "\n",
    "# create an output data frame containing land data\n",
    "land_df = g.get_data(query_string, query_params)\n",
    "\n",
    "land_df.head()\n"
   ]
  },
  {
   "cell_type": "markdown",
   "metadata": {},
   "source": [
    "## Explore GCAM land allocation outputs for year 2015"
   ]
  },
  {
   "cell_type": "markdown",
   "metadata": {},
   "source": [
    "#### Load into a demeter formatted dataframe"
   ]
  },
  {
   "cell_type": "code",
   "execution_count": null,
   "metadata": {},
   "outputs": [],
   "source": [
    "gcam_df = demeter.format_gcam_data(df=land_df, start_year=2015, through_year=2015)\n",
    "\n",
    "gcam_df.head()\n"
   ]
  },
  {
   "cell_type": "markdown",
   "metadata": {},
   "source": [
    "#### GCAM total land allocation by region for all land classes"
   ]
  },
  {
   "cell_type": "code",
   "execution_count": null,
   "metadata": {},
   "outputs": [],
   "source": [
    "reg_ax = im3vis.gcam_demeter_region(gcam_df, target_year='2015',\n",
    "                                    label='land allocation', units=land_df.attrs['units'])\n"
   ]
  },
  {
   "cell_type": "markdown",
   "metadata": {},
   "source": [
    "#### GCAM total land allocation by region for combined Corn"
   ]
  },
  {
   "cell_type": "code",
   "execution_count": null,
   "metadata": {},
   "outputs": [],
   "source": [
    "reg_ax = im3vis.gcam_demeter_region(gcam_df, \n",
    "                                    target_year='2015', \n",
    "                                    landclass_list=['corn_irr', 'corn_rfd'],\n",
    "                                    label='land allocation', units=land_df.attrs['units'])\n"
   ]
  },
  {
   "cell_type": "markdown",
   "metadata": {},
   "source": [
    "#### GCAM `corn` allocation for year 2015 for the CONUS"
   ]
  },
  {
   "cell_type": "code",
   "execution_count": null,
   "metadata": {},
   "outputs": [],
   "source": [
    "agg_df = im3vis.plot_gcam_basin(gcam_df,\n",
    "                                target_year='2015',\n",
    "                                landclass_list=['corn_irr', 'corn_rfd'],\n",
    "                                setting='crop_yield',\n",
    "                                scope='conus',\n",
    "                                label='land allocation', units=land_df.attrs['units'])\n"
   ]
  },
  {
   "cell_type": "markdown",
   "metadata": {},
   "source": [
    "#### GCAM `corn` allocation for year 2015 for global basins"
   ]
  },
  {
   "cell_type": "code",
   "execution_count": null,
   "metadata": {},
   "outputs": [],
   "source": [
    "agg_df = im3vis.plot_gcam_basin(gcam_df,\n",
    "                                target_year='2015',\n",
    "                                landclass_list=['corn_irr', 'corn_rfd'],\n",
    "                                setting='crop_yield',\n",
    "                                scope='global',\n",
    "                                label='land allocation', units=land_df.attrs['units'])\n"
   ]
  },
  {
   "cell_type": "markdown",
   "metadata": {},
   "source": [
    "## Run Demeter"
   ]
  },
  {
   "cell_type": "markdown",
   "metadata": {},
   "source": [
    "#### Instantiate Demeter"
   ]
  },
  {
   "cell_type": "code",
   "execution_count": null,
   "metadata": {},
   "outputs": [],
   "source": [
    "# instantiate demeter model\n",
    "model = Model(config_file=gcam_demeter_clinic.get_config_file(), \n",
    "              gcamwrapper_df=land_df,\n",
    "              write_outputs=False,\n",
    "              write_logfile=False)\n"
   ]
  },
  {
   "cell_type": "markdown",
   "metadata": {},
   "source": [
    "#### Load model data and prepare run"
   ]
  },
  {
   "cell_type": "code",
   "execution_count": null,
   "metadata": {},
   "outputs": [],
   "source": [
    "model.initialize()\n"
   ]
  },
  {
   "cell_type": "markdown",
   "metadata": {},
   "source": [
    "#### Process the target time step from the GCAM output DataFrame for land allocation"
   ]
  },
  {
   "cell_type": "code",
   "execution_count": null,
   "metadata": {},
   "outputs": [],
   "source": [
    "%%time\n",
    "\n",
    "# process first year\n",
    "demeter_2015 = model.process_step()\n"
   ]
  },
  {
   "cell_type": "markdown",
   "metadata": {},
   "source": [
    "## Explore Demeter's outputs"
   ]
  },
  {
   "cell_type": "markdown",
   "metadata": {},
   "source": [
    "#### Build a geodataframe from the outputs"
   ]
  },
  {
   "cell_type": "code",
   "execution_count": null,
   "metadata": {},
   "outputs": [],
   "source": [
    "# a geopandas data frame of demeter's output land allocation data with geometry\n",
    "demeter_gdf = im3vis.build_geodataframe(demeter_2015)\n"
   ]
  },
  {
   "cell_type": "markdown",
   "metadata": {},
   "source": [
    "#### Plot Demeter `corn` output for year 2015 for the CONUS"
   ]
  },
  {
   "cell_type": "code",
   "execution_count": null,
   "metadata": {},
   "outputs": [],
   "source": [
    "r = im3vis.plot_demeter_raster(demeter_gdf=demeter_gdf, \n",
    "                               landclass_list=['crop2_irr', 'crop2_rfd'],\n",
    "                               target_year='2015', \n",
    "                               scope='conus',\n",
    "                               resolution='0.5')\n"
   ]
  },
  {
   "cell_type": "markdown",
   "metadata": {},
   "source": [
    "#### Plot Demeter `forest` global output for 2015"
   ]
  },
  {
   "cell_type": "code",
   "execution_count": null,
   "metadata": {},
   "outputs": [],
   "source": [
    "r = im3vis.plot_demeter_raster(demeter_gdf=demeter_gdf, \n",
    "                               landclass_list=['unmanagedforest', 'forest'],\n",
    "                               target_year='2015', \n",
    "                               scope='global',\n",
    "                               resolution='0.5')\n"
   ]
  },
  {
   "cell_type": "markdown",
   "metadata": {},
   "source": [
    "#### Clean up the logger"
   ]
  },
  {
   "cell_type": "code",
   "execution_count": null,
   "metadata": {},
   "outputs": [],
   "source": [
    "model.cleanup()\n"
   ]
  },
  {
   "cell_type": "markdown",
   "metadata": {},
   "source": [
    "## Run the next model period (2020) in GCAM _without_ yield impacts"
   ]
  },
  {
   "cell_type": "code",
   "execution_count": null,
   "metadata": {},
   "outputs": [],
   "source": [
    "%%time\n",
    "\n",
    "g.run_to_period()\n"
   ]
  },
  {
   "cell_type": "markdown",
   "metadata": {},
   "source": [
    "## Query and visualize model results _without_ accounting for yield impact for comparison purposes"
   ]
  },
  {
   "cell_type": "code",
   "execution_count": null,
   "metadata": {},
   "outputs": [],
   "source": [
    "# load query for land allocation\n",
    "query_string = gw.get_query('land', 'land_allocation')\n",
    "query_params = {'region': ['*'], 'leaf': ['*'], 'year': ['<=', g.get_current_year()]}\n",
    "\n",
    "# run the query\n",
    "land_df = g.get_data(query_string, query_params)\n",
    "\n",
    "# get Corn producer prices\n",
    "query_string = gw.get_query('ag', 'prices')\n",
    "query_params = {'region': ['*'], \n",
    "                'sector': ['=', 'Corn'], \n",
    "                'year': ['=', g.get_current_year()]}\n",
    "\n",
    "prod_prices = g.get_data(query_string, query_params)\n",
    "\n",
    "# get domestic Corn prices (accounting for trade)\n",
    "query_params['sector'] = [\"=\", 'regional corn']\n",
    "\n",
    "dom_prices = g.get_data(query_string, query_params)\n",
    "\n",
    "# get crop production data\n",
    "query_string = gw.get_query('ag', 'production')\n",
    "query_params = {'region': ['*'],\n",
    "                'sector': ['*'],\n",
    "                'year': ['=', g.get_current_year()]}\n",
    "production = g.get_data(query_string, query_params)\n",
    "\n",
    "# finally get the actual yields\n",
    "query_string = gw.get_query('ag', 'yield')\n",
    "query_params = {'region': ['*'], \n",
    "                'sector': ['*'], \n",
    "                'tech': ['*'], \n",
    "                'year': ['=', g.get_current_year()]}\n",
    "\n",
    "yields = g.get_data(query_string, query_params)\n"
   ]
  },
  {
   "cell_type": "markdown",
   "metadata": {},
   "source": [
    "## Generate yield impacts from ISIMIP PDSST data using downscaled land from Demeter to weight and map them to GCAM land regions"
   ]
  },
  {
   "cell_type": "code",
   "execution_count": null,
   "metadata": {},
   "outputs": [],
   "source": [
    "yield_scaler_df = demo_utils.get_yield_scalers(demeter_2015, g.get_current_year())\n",
    "yield_scaler_df.head()\n"
   ]
  },
  {
   "cell_type": "code",
   "execution_count": null,
   "metadata": {},
   "outputs": [],
   "source": [
    "yields_new = yields.merge(yield_scaler_df, on=[\"region\", \"sector\", \"technology\", \"year\"], how=\"inner\")\n",
    "yields_new['yield'] *= yields_new['yield_scaler']\n",
    "yields_new = yields_new.filter([\"region\", \"sector\", \"technology\", \"year\", \"yield\"])\n",
    "\n",
    "yields_new.head()\n"
   ]
  },
  {
   "cell_type": "markdown",
   "metadata": {},
   "source": [
    "## Update yields in GCAM for year 2020 and re-run"
   ]
  },
  {
   "cell_type": "code",
   "execution_count": null,
   "metadata": {},
   "outputs": [],
   "source": [
    "# get the same query string\n",
    "query_string = gw.get_query('ag', 'yield')\n",
    "\n",
    "# however the syntax for the query params are slightly different for set data as we\n",
    "# need to explicitly tell it which match with the '+' argument and of course we do\n",
    "# not give the values to compare against as those are coming from the DataFrame\n",
    "query_params = {'region': ['+', '='], \n",
    "                'sector': ['+', '='], \n",
    "                'tech': ['+', '='], \n",
    "                'year': ['+', '=']}\n",
    "\n",
    "g.set_data(yields_new, query_string, query_params)\n",
    "\n",
    "# re-run 2020\n",
    "g.run_to_period(g.get_current_period())\n"
   ]
  },
  {
   "cell_type": "markdown",
   "metadata": {},
   "source": [
    "## Get the results _with_ impacts for comparison"
   ]
  },
  {
   "cell_type": "code",
   "execution_count": null,
   "metadata": {},
   "outputs": [],
   "source": [
    "# load query for land allocation\n",
    "query_string = gw.get_query('land', 'land_allocation')\n",
    "query_params = {'region': ['*'], \n",
    "                'leaf': ['*'], \n",
    "                'year': ['<=', g.get_current_year()]}\n",
    "\n",
    "# run the query\n",
    "land_df_new = g.get_data(query_string, query_params)\n",
    "\n",
    "# get Corn producer prices\n",
    "query_string = gw.get_query('ag', 'prices')\n",
    "query_params = {'region': ['*'], \n",
    "                'sector': ['=', 'Corn'], \n",
    "                'year': ['=', g.get_current_year()]}\n",
    "\n",
    "prod_prices_new = g.get_data(query_string, query_params)\n",
    "\n",
    "# get domestic Corn prices (accounting for trade)\n",
    "query_params['sector'] = [\"=\", 'regional corn']\n",
    "\n",
    "dom_prices_new = g.get_data(query_string, query_params)\n",
    "\n",
    "# get crop production data\n",
    "query_string = gw.get_query('ag', 'production')\n",
    "query_params = {'region': ['*'],\n",
    "                'sector': ['*'],\n",
    "                'year': ['=', g.get_current_year()]}\n",
    "production_new = g.get_data(query_string, query_params)\n",
    "\n",
    "# finally get the actual yields\n",
    "query_string = gw.get_query('ag', 'yield')\n",
    "query_params = {'region': ['*'], \n",
    "                'sector': ['*'], \n",
    "                'tech': ['*'], \n",
    "                'year': ['=', g.get_current_year()]}\n",
    "\n",
    "yields_new = g.get_data(query_string, query_params)\n"
   ]
  },
  {
   "cell_type": "markdown",
   "metadata": {},
   "source": [
    "## Visualizations comparing 2020 with and without crop yield updates"
   ]
  },
  {
   "cell_type": "code",
   "execution_count": null,
   "metadata": {},
   "outputs": [],
   "source": [
    "prod_prices_diff = demo_utils.calc_diff(prod_prices_new, prod_prices)\n",
    "reg_ax = im3vis.gcam_demeter_region(prod_prices_diff, target_year='diff_rel', metric_id_col=None,\n",
    "                                    label='Corn Producer Prices', units=prod_prices.attrs['units'])"
   ]
  },
  {
   "cell_type": "code",
   "execution_count": null,
   "metadata": {},
   "outputs": [],
   "source": [
    "dom_prices_diff = demo_utils.calc_diff(dom_prices_new, dom_prices)\n",
    "reg_ax = im3vis.gcam_demeter_region(dom_prices_diff, target_year='diff_rel', metric_id_col=None,\n",
    "                                    label='Corn Domestic Prices', units=prod_prices.attrs['units'])"
   ]
  },
  {
   "cell_type": "code",
   "execution_count": null,
   "metadata": {},
   "outputs": [],
   "source": [
    "yields_diff = demo_utils.calc_diff(yields_new, yields)\n",
    "yields_diff = yields_diff.query(\"sector == 'Corn'\")\n",
    "yields_plotdf = demeter.format_gcam_data(df=yields_diff, start_year=2020, through_year=2020, gcam_landalloc_field=\"diff_rel\", gcam_nodes_field=\"technology\")\n",
    "yields_plotdf_irr = yields_plotdf.query('landclass == \"Corn_IRR\"').copy()\n",
    "agg_df = im3vis.plot_gcam_basin(yields_plotdf_irr,\n",
    "                                target_year='2020',\n",
    "                                landclass_list=['corn_irr'],\n",
    "                                setting='crop_yield',\n",
    "                                scope='global',\n",
    "                                label=\"Yield Relative Diff\",\n",
    "                                units=yields.attrs['units'])\n",
    "yields_plotdf_rfd = yields_plotdf.query('landclass == \"Corn_RFD\"').copy()\n",
    "agg_df = im3vis.plot_gcam_basin(yields_plotdf_rfd,\n",
    "                                target_year='2020',\n",
    "                                landclass_list=['corn_rfd'],\n",
    "                                setting='crop_yield',\n",
    "                                scope='global',\n",
    "                                label=\"Yield Relative Diff\",\n",
    "                                units=yields.attrs['units'])"
   ]
  },
  {
   "cell_type": "code",
   "execution_count": null,
   "metadata": {},
   "outputs": [],
   "source": [
    "production_diff = demo_utils.calc_diff(production_new, production)\n",
    "production_diff = production_diff.query(\"sector == 'Corn'\")\n",
    "production_plotdf = demeter.format_gcam_data(df=production_diff, start_year=2020, through_year=2020, gcam_landalloc_field=\"diff_rel\", gcam_nodes_field=\"technology\")\n",
    "production_plotdf_irr = production_plotdf.query('landclass == \"Corn_IRR\"').copy()\n",
    "agg_df = im3vis.plot_gcam_basin(production_plotdf_irr,\n",
    "                                target_year='2020',\n",
    "                                landclass_list=['corn_irr'],\n",
    "                                setting='crop_yield',\n",
    "                                scope='global',\n",
    "                                label=\"Production Relative Diff\",\n",
    "                                units=production.attrs['units'])\n",
    "production_plotdf_rfd = production_plotdf.query('landclass == \"Corn_RFD\"').copy()\n",
    "agg_df = im3vis.plot_gcam_basin(production_plotdf_rfd,\n",
    "                                target_year='2020',\n",
    "                                landclass_list=['corn_rfd'],\n",
    "                                setting='crop_yield',\n",
    "                                scope='global',\n",
    "                                label=\"Production Relative Diff\",\n",
    "                                units=production.attrs['units'])"
   ]
  },
  {
   "cell_type": "markdown",
   "metadata": {},
   "source": [
    "## Thank you for attending our clinic!"
   ]
  },
  {
   "cell_type": "markdown",
   "metadata": {},
   "source": [
    "Hopefully we provided a high-level demonstration of how to integrate GCAM - using its new Python wrapper - into existing workflows that research energy, water, land, climate, and socioeconomic dynamics to provide a global, human-Earth perspective.\n",
    "\n",
    "Both `demeter` and `gcamwrapper` will be getting a BMI soon!\n"
   ]
  },
  {
   "cell_type": "markdown",
   "metadata": {},
   "source": [
    "## Please feel free to contact us for any further questions at:\n"
   ]
  },
  {
   "cell_type": "markdown",
   "metadata": {},
   "source": [
    "#### pralit.patel@pnnl.gov\n",
    "#### chris.vernon@pnnl.gov"
   ]
  },
  {
   "cell_type": "code",
   "execution_count": null,
   "metadata": {},
   "outputs": [],
   "source": []
  }
 ],
 "metadata": {
  "kernelspec": {
   "display_name": "Python 3",
   "language": "python",
   "name": "python3"
  },
  "language_info": {
   "codemirror_mode": {
    "name": "ipython",
    "version": 3
   },
   "file_extension": ".py",
   "mimetype": "text/x-python",
   "name": "python",
   "nbconvert_exporter": "python",
   "pygments_lexer": "ipython3",
   "version": "3.8.5"
  }
 },
 "nbformat": 4,
 "nbformat_minor": 4
}
