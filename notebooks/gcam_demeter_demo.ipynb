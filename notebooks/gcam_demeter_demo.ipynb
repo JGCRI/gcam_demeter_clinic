{
 "cells": [
  {
   "cell_type": "markdown",
   "metadata": {},
   "source": [
    "# TODO"
   ]
  },
  {
   "cell_type": "markdown",
   "metadata": {},
   "source": [
    "- [WORKING] decide on plots\n",
    "- [WORKING] add plotting and yield code to the `gcam_demeter_clinic` repo as a package and install:  https://github.com/JGCRI/gcam_demeter_clinic cloned here:  /home/msdadmin/repos/gcam_demeter_clinic\n",
    "- Check performance:  runtime, memory\n",
    "- Finalize notebook \n",
    "- Deploy notebook where anyone who logs on can access it\n",
    "\n",
    "\n",
    "\n",
    "\n"
   ]
  },
  {
   "cell_type": "markdown",
   "metadata": {},
   "source": [
    "# Schedule"
   ]
  },
  {
   "cell_type": "markdown",
   "metadata": {},
   "source": [
    "-[5] **Greetings**\n",
    "\n",
    "-[20] **Introductions**:  who are we, and what is this clinic about, and what will you do, and what you should take away from this, mention MSD and GCIMS\n",
    "\n",
    "-[5-10] **Setup**: login, mention MSD-LIVE\n",
    "\n",
    "-[30] **GCAM, gcamwrapper**:  What is GCAM, what is GCAM wrapper, ...\n",
    "\n",
    "-[20] **Demeter**: What is Demeter, why it was created, etc.\n",
    "\n",
    "-[40] **Demo**: Pralit talks about the context while GCAM is running...may want to discuss what is going on in GCAM\n"
   ]
  },
  {
   "cell_type": "markdown",
   "metadata": {},
   "source": [
    "##             ---------- DELETE ABOVE HERE ------------"
   ]
  },
  {
   "cell_type": "code",
   "execution_count": null,
   "metadata": {},
   "outputs": [],
   "source": []
  },
  {
   "cell_type": "markdown",
   "metadata": {},
   "source": [
    "<img src=\"../img/banner.png\" alt=\"Powered by MSD-LIVE\" width = 600/>\n"
   ]
  },
  {
   "cell_type": "markdown",
   "metadata": {},
   "source": [
    "# CSDMS 2021 Annual Meeting"
   ]
  },
  {
   "cell_type": "markdown",
   "metadata": {},
   "source": [
    "### CLINIC:  Thursday, May 20 11:00am - 1pm MST"
   ]
  },
  {
   "cell_type": "markdown",
   "metadata": {},
   "source": [
    "## GCAM and Demeter:  A global, integrated human-Earth systems perspective to modeling land projections"
   ]
  },
  {
   "cell_type": "markdown",
   "metadata": {},
   "source": [
    "### Pralit Patel, pralit.patel<span></span>@pnnl.gov and Chris Vernon, chris.vernon<span></span>@pnnl.gov"
   ]
  },
  {
   "cell_type": "markdown",
   "metadata": {},
   "source": [
    "Researchers and decision makers are increasingly interested in understanding the many ways in which human and Earth systems interact with one another, at scales from local (e.g., a city) to regional to global. For example, how might changes in population, income, or technology development alter crop production, energy demand, or water withdrawals? How do changes in one region's demand for energy affect energy, water, and land in other regions? This session will focus on two models – GCAM and Demeter – that provide capabilities to address these types of questions.\n",
    "\n",
    "\n",
    "GCAM is an open-source, global, market equilibrium model that represents the linkages between energy, water, land, climate, and economic systems. A strength of GCAM is that it can be used to quickly explore, and quantify the uncertainty in, a large number of alternate future scenarios while accounting for multi-sector, human-Earth system dynamics. One of GCAM’s many outputs is projected land cover/use by subregion. Subregional projections provide context and can be used to understand regional land dynamics; however, Earth System Models (ESMs) generally require gridded representations of land at finer scales. Demeter, a land use and land cover disaggregation model, was created to provide this service. Demeter directly ingests land projections from GCAM and creates gridded products that match the desired resolution and land class requirements of the user.\n",
    "\n",
    "This clinic will introduce both GCAM and Demeter at a high-level. We will also provide a hands-on walk through for a reference case so attendees can become familiar with configuring and running these two models. Our goal will be for attendees to leave the clinic with an understanding of 1) the value of capturing a global perspective when informing subregional and local analysis, 2) possibilities to conduct scenario exploration experiments that capture multi-sector/scale dynamics, 3) and a hands-on experience with GCAM and Demeter."
   ]
  },
  {
   "cell_type": "markdown",
   "metadata": {},
   "source": [
    "# Value of this tutorial"
   ]
  },
  {
   "cell_type": "markdown",
   "metadata": {},
   "source": [
    "Demonstrate how to integrate GCAM - using its new Python wrapper - into existing workflows that research energy, water, land, climate, and socioeconomic dynamics to provide a global, human-Earth perspective."
   ]
  },
  {
   "cell_type": "markdown",
   "metadata": {},
   "source": [
    "# Import packages"
   ]
  },
  {
   "cell_type": "code",
   "execution_count": 24,
   "metadata": {},
   "outputs": [],
   "source": [
    "import time\n",
    "\n",
    "import pandas as pd\n",
    "\n",
    "import gcamwrapper as gw\n",
    "\n",
    "from demeter import Model\n",
    "\n",
    "import demo_utils\n"
   ]
  },
  {
   "cell_type": "markdown",
   "metadata": {},
   "source": [
    "# Using GCAM via `gcamwrapper`"
   ]
  },
  {
   "cell_type": "markdown",
   "metadata": {},
   "source": [
    "#### Load GCAM specific files"
   ]
  },
  {
   "cell_type": "code",
   "execution_count": null,
   "metadata": {},
   "outputs": [],
   "source": [
    "# path to the exe directory where gcam-core is installed\n",
    "core_exe_path = '/home/msdadmin/csdms_demo/gcam-core/exe'\n",
    "\n",
    "# path to the xml configuration file you want to use\n",
    "config_xml_file = 'configuration_reduced.xml'\n"
   ]
  },
  {
   "cell_type": "markdown",
   "metadata": {},
   "source": [
    "#### Instantiate GCAM"
   ]
  },
  {
   "cell_type": "code",
   "execution_count": null,
   "metadata": {},
   "outputs": [],
   "source": [
    "g = gw.Gcam(config_xml_file, core_exe_path)"
   ]
  },
  {
   "cell_type": "markdown",
   "metadata": {},
   "source": [
    "#### Run the model through its calibration years to the base year of 2015"
   ]
  },
  {
   "cell_type": "code",
   "execution_count": null,
   "metadata": {},
   "outputs": [],
   "source": [
    "t0 = time.time()\n",
    "\n",
    "final_cal_period = g.convert_year_to_period(2015)\n",
    "g.run_to_period(final_cal_period)\n",
    "\n",
    "print(f\"Completed in: {time.time() - t0} seconds.\")\n"
   ]
  },
  {
   "cell_type": "markdown",
   "metadata": {},
   "source": [
    "#### Query land allocation data from the current GCAM run"
   ]
  },
  {
   "cell_type": "code",
   "execution_count": null,
   "metadata": {},
   "outputs": [],
   "source": [
    "# load query from query library\n",
    "query_string = gw.get_query('land', 'land_allocation')\n",
    "\n",
    "# query specific information\n",
    "query_params = {'region': ['*'], 'leaf': ['*'], 'year': ['<=', g.get_current_year()]}\n",
    "\n",
    "# create an output data frame containing land data\n",
    "land_df = g.get_data(query_string, query_params)\n",
    "\n",
    "land_df.head(6)\n"
   ]
  },
  {
   "cell_type": "markdown",
   "metadata": {},
   "source": [
    "## Run Demeter"
   ]
  },
  {
   "cell_type": "markdown",
   "metadata": {},
   "source": [
    "#### Instantiate Demeter"
   ]
  },
  {
   "cell_type": "code",
   "execution_count": null,
   "metadata": {},
   "outputs": [],
   "source": [
    "# path to Demeter configuration file on the server\n",
    "config_file = '/home/msdadmin/csdms_demo/demeter_data/csdms_clinic_config.ini'\n",
    "\n",
    "# instantiate demeter model\n",
    "model = Model(config_file=config_file, \n",
    "              gcamwrapper_df=land_df,\n",
    "              write_outputs=False)\n"
   ]
  },
  {
   "cell_type": "markdown",
   "metadata": {},
   "source": [
    "#### Load model data and prepare run"
   ]
  },
  {
   "cell_type": "code",
   "execution_count": null,
   "metadata": {},
   "outputs": [],
   "source": [
    "# initialize model\n",
    "model.initialize()\n"
   ]
  },
  {
   "cell_type": "markdown",
   "metadata": {},
   "source": [
    "#### Process the target time step from the GCAM output DataFrame"
   ]
  },
  {
   "cell_type": "code",
   "execution_count": null,
   "metadata": {},
   "outputs": [],
   "source": [
    "t0 = time.time()\n",
    "\n",
    "# process first year\n",
    "df_2015 = model.process_step()\n",
    "\n",
    "print(f\"Completed in: {time.time() - t0} seconds.\")\n"
   ]
  },
  {
   "cell_type": "markdown",
   "metadata": {},
   "source": [
    "#### Check out Demeter's outputs"
   ]
  },
  {
   "cell_type": "code",
   "execution_count": null,
   "metadata": {},
   "outputs": [],
   "source": [
    "df_2015.head()"
   ]
  },
  {
   "cell_type": "markdown",
   "metadata": {},
   "source": [
    "#### Clean up the logger"
   ]
  },
  {
   "cell_type": "code",
   "execution_count": null,
   "metadata": {},
   "outputs": [],
   "source": [
    "# cleanup model\n",
    "model.cleanup()\n"
   ]
  },
  {
   "cell_type": "markdown",
   "metadata": {},
   "source": [
    "## Run the next model period (2020) in GCAM _without_ yield impacts"
   ]
  },
  {
   "cell_type": "code",
   "execution_count": null,
   "metadata": {},
   "outputs": [],
   "source": [
    "t0 = time.time()\n",
    "\n",
    "g.run_to_period()\n",
    "\n",
    "print(f\"Completed in: {time.time() - t0} seconds.\")\n"
   ]
  },
  {
   "cell_type": "markdown",
   "metadata": {},
   "source": [
    "### Get yield information from Corn without accounting for updated land from Demeter"
   ]
  },
  {
   "cell_type": "code",
   "execution_count": 25,
   "metadata": {},
   "outputs": [],
   "source": [
    "# load query for land allocation\n",
    "query_string = gw.get_query('land', 'land_allocation')\n",
    "query_params = {'region': ['*'], 'leaf': ['*'], 'year': ['<=', g.get_current_year()]}\n",
    "\n",
    "# run the query\n",
    "land_df = g.get_data(query_string, query_params)\n",
    "\n",
    "# get Corn producer prices\n",
    "query_string = gw.get_query('ag', 'prices')\n",
    "query_params = {'region': ['*'], 'sector': ['=', 'Corn'], 'year': ['=', g.get_current_year()]}\n",
    "\n",
    "prod_prices = g.get_data(query_string, query_params)\n",
    "\n",
    "# get domestic Corn prices (accounting for trade)\n",
    "query_params['sector'] = [\"=\", 'regional corn']\n",
    "\n",
    "prod_prices = g.get_data(query_string, query_params)\n",
    "\n",
    "# finally get the actual yields\n",
    "query_string = gw.get_query('ag', 'yield')\n",
    "query_params = {'region': ['*'], 'sector': ['=', 'Corn'], 'tech': ['*'], 'year': ['=', g.get_current_year()]}\n",
    "\n",
    "yields = g.get_data(query_string, query_params)\n"
   ]
  },
  {
   "cell_type": "markdown",
   "metadata": {},
   "source": [
    "## Get the yield impacts and apply them"
   ]
  },
  {
   "cell_type": "code",
   "execution_count": null,
   "metadata": {},
   "outputs": [],
   "source": [
    "yield_scaler_df = demo_utils.get_yield_scalers(df_2015, g.get_current_year())\n",
    "yield_scaler_df.head()"
   ]
  },
  {
   "cell_type": "code",
   "execution_count": null,
   "metadata": {},
   "outputs": [],
   "source": [
    "#yields.join(yield_scaler_df.reset_index(), on=[\"region\", \"sector\", \"technology\", \"year\"], how=\"inner\").head()\n",
    "yields_new = yields.set_index([\"region\", \"sector\", \"technology\", \"year\"]).join(yield_scaler_df.set_index([\"region\", \"sector\", \"technology\", \"year\"]), how=\"inner\").reset_index()\n",
    "yields_new['yield'] *= yields_new['yield_scaler']\n",
    "yields_new = yields_new.filter([\"region\", \"sector\", \"technology\", \"year\", \"yield\"])\n",
    "yields_new.head()"
   ]
  },
  {
   "cell_type": "markdown",
   "metadata": {},
   "source": [
    "## Set the new yields into the model and re-run"
   ]
  },
  {
   "cell_type": "code",
   "execution_count": null,
   "metadata": {},
   "outputs": [],
   "source": [
    "# get the same query string\n",
    "query_string = gw.get_query('ag', 'yield')\n",
    "# however the syntax for the query params are slightly different for set data as we\n",
    "# need to explicitly tell it which match with the '+' argument and of course we do\n",
    "# not give the values to compare against as those are coming from the DataFrame\n",
    "query_params = {'region': ['+', '='], 'sector': ['+', '='], 'tech': ['+', '='], 'year': ['+', '=']}\n",
    "g.set_data(yields_new, query_string, query_params)\n",
    "\n",
    "# re-run 2020\n",
    "g.run_to_period(g.get_current_period())\n",
    "\n"
   ]
  },
  {
   "cell_type": "markdown",
   "metadata": {},
   "source": [
    "## Get the results with impacts for comparison"
   ]
  },
  {
   "cell_type": "code",
   "execution_count": null,
   "metadata": {},
   "outputs": [],
   "source": [
    "# load query for land allocation\n",
    "query_string = gw.get_query('land', 'land_allocation')\n",
    "query_params = {'region': ['*'], 'leaf': ['*'], 'year': ['<=', g.get_current_year()]}\n",
    "# run the query\n",
    "land_df_new = g.get_data(query_string, query_params)\n",
    "\n",
    "# get Corn producer prices\n",
    "query_string = gw.get_query('ag', 'prices')\n",
    "query_params = {'region': ['*'], 'sector': ['=', 'Corn'], 'year': ['=', g.get_current_year()]}\n",
    "prod_prices_new = g.get_data(query_string, query_params)\n",
    "\n",
    "# get domestic Corn prices (accounting for trade)\n",
    "query_params['sector'] = [\"=\", 'regional corn']\n",
    "prod_prices_new = g.get_data(query_string, query_params)\n",
    "\n",
    "# finally get the actual yields\n",
    "query_string = gw.get_query('ag', 'yield')\n",
    "query_params = {'region': ['*'], 'sector': ['=', 'Corn'], 'tech': ['*'], 'year': ['=', g.get_current_year()]}\n",
    "yields_new = g.get_data(query_string, query_params)"
   ]
  },
  {
   "cell_type": "markdown",
   "metadata": {},
   "source": [
    "## Visualizations comparing 2025 with and without crop yield update"
   ]
  },
  {
   "cell_type": "code",
   "execution_count": null,
   "metadata": {},
   "outputs": [],
   "source": [
    "# either load original run without updates or do two sims"
   ]
  },
  {
   "cell_type": "code",
   "execution_count": null,
   "metadata": {},
   "outputs": [],
   "source": [
    "yields_new.head()"
   ]
  },
  {
   "cell_type": "code",
   "execution_count": null,
   "metadata": {},
   "outputs": [],
   "source": [
    "prod_prices.head()"
   ]
  },
  {
   "cell_type": "code",
   "execution_count": null,
   "metadata": {},
   "outputs": [],
   "source": [
    "prod_prices_new.head()"
   ]
  },
  {
   "cell_type": "code",
   "execution_count": null,
   "metadata": {},
   "outputs": [],
   "source": []
  }
 ],
 "metadata": {
  "kernelspec": {
   "display_name": "Python 3",
   "language": "python",
   "name": "python3"
  },
  "language_info": {
   "codemirror_mode": {
    "name": "ipython",
    "version": 3
   },
   "file_extension": ".py",
   "mimetype": "text/x-python",
   "name": "python",
   "nbconvert_exporter": "python",
   "pygments_lexer": "ipython3",
   "version": "3.8.5"
  }
 },
 "nbformat": 4,
 "nbformat_minor": 2
}
