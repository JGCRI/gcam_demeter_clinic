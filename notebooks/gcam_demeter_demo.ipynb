{
 "cells": [
  {
   "cell_type": "markdown",
   "metadata": {},
   "source": [
    "# TODO"
   ]
  },
  {
   "cell_type": "markdown",
   "metadata": {},
   "source": [
    "- [WORKING] decide on plots\n",
    "- [WORKING] add plotting and yield code to the `gcam_demeter_clinic` repo as a package and install:  https://github.com/JGCRI/gcam_demeter_clinic cloned here:  /home/msdadmin/repos/gcam_demeter_clinic\n",
    "- [TODO] ADD IN MSD-LIVE LOGO, GCIMS, MSD and mention it in Setup\n",
    "\n",
    "- Demeter run from updated land allocation from wrapper\n",
    "- Check performance:  runtime, memory\n",
    "- Finalize notebook \n",
    "\n",
    "\n",
    "\n",
    "\n"
   ]
  },
  {
   "cell_type": "markdown",
   "metadata": {},
   "source": [
    "# Schedule"
   ]
  },
  {
   "cell_type": "markdown",
   "metadata": {},
   "source": [
    "-[5] **Greetings**\n",
    "\n",
    "-[20] **Introductions**:  who are we, and what is this clinic about, and what will you do, and what you should take away from this, mention MSD and GCIMS\n",
    "\n",
    "-[5-10] **Setup**: login, mention MSD-LIVE\n",
    "\n",
    "-[30] **GCAM, gcamwrapper**:  What is GCAM, what is GCAM wrapper, ...\n",
    "\n",
    "-[20] **Demeter**: What is Demeter, why it was created, etc.\n",
    "\n",
    "-[40] **Demo**: Pralit talks about the context while GCAM is running...may want to discuss what is going on in GCAM\n"
   ]
  },
  {
   "cell_type": "code",
   "execution_count": null,
   "metadata": {},
   "outputs": [],
   "source": []
  },
  {
   "cell_type": "markdown",
   "metadata": {},
   "source": [
    "# CSDMS 2021 Annual Meeting"
   ]
  },
  {
   "cell_type": "markdown",
   "metadata": {},
   "source": [
    "### CLINIC:  Thursday, May 20 11:00am - 1pm MST"
   ]
  },
  {
   "cell_type": "markdown",
   "metadata": {},
   "source": [
    "## GCAM and Demeter:  A global, integrated human-Earth systems perspective to modeling land projections"
   ]
  },
  {
   "cell_type": "markdown",
   "metadata": {},
   "source": [
    "Researchers and decision makers are increasingly interested in understanding the many ways in which human and Earth systems interact with one another, at scales from local (e.g., a city) to regional to global. For example, how might changes in population, income, or technology development alter crop production, energy demand, or water withdrawals? How do changes in one region's demand for energy affect energy, water, and land in other regions? This session will focus on two models – GCAM and Demeter – that provide capabilities to address these types of questions.\n",
    "\n",
    "\n",
    "GCAM is an open-source, global, market equilibrium model that represents the linkages between energy, water, land, climate, and economic systems. A strength of GCAM is that it can be used to quickly explore, and quantify the uncertainty in, a large number of alternate future scenarios while accounting for multi-sector, human-Earth system dynamics. One of GCAM’s many outputs is projected land cover/use by subregion. Subregional projections provide context and can be used to understand regional land dynamics; however, Earth System Models (ESMs) generally require gridded representations of land at finer scales. Demeter, a land use and land cover disaggregation model, was created to provide this service. Demeter directly ingests land projections from GCAM and creates gridded products that match the desired resolution and land class requirements of the user.\n",
    "\n",
    "This clinic will introduce both GCAM and Demeter at a high-level. We will also provide a hands-on walk through for a reference case so attendees can become familiar with configuring and running these two models. Our goal will be for attendees to leave the clinic with an understanding of 1) the value of capturing a global perspective when informing subregional and local analysis, 2) possibilities to conduct scenario exploration experiments that capture multi-sector/scale dynamics, 3) and a hands-on experience with GCAM and Demeter."
   ]
  },
  {
   "cell_type": "markdown",
   "metadata": {},
   "source": [
    "# Supporting packages"
   ]
  },
  {
   "cell_type": "code",
   "execution_count": 1,
   "metadata": {},
   "outputs": [],
   "source": [
    "import pandas as pd\n",
    "\n",
    "import gcamwrapper as gw\n",
    "\n",
    "from demeter import Model\n",
    "\n",
    "import demo_utils\n"
   ]
  },
  {
   "cell_type": "markdown",
   "metadata": {},
   "source": [
    "## Using GCAM via `gcamwrapper`"
   ]
  },
  {
   "cell_type": "markdown",
   "metadata": {},
   "source": [
    "#### Load GCAM specific info"
   ]
  },
  {
   "cell_type": "code",
   "execution_count": 3,
   "metadata": {},
   "outputs": [],
   "source": [
    "# path to the exe directory where gcam-core is installed\n",
    "core_exe_path = '/home/msdadmin/csdms_demo/gcam-core/exe'\n",
    "\n",
    "# path to the xml configuration file you want to use\n",
    "config_xml_file = 'configuration_reduced.xml'\n"
   ]
  },
  {
   "cell_type": "markdown",
   "metadata": {},
   "source": [
    "#### Prepare GCAM"
   ]
  },
  {
   "cell_type": "code",
   "execution_count": 4,
   "metadata": {},
   "outputs": [
    {
     "name": "stdout",
     "output_type": "stream",
     "text": [
      "Running GCAM model code base version 5.3 revision gcam-v5.3\n",
      "\n",
      "Configuration file:  configuration_reduced.xml\n",
      "Parsing input files...\n",
      "Parsing ../input/gcamdata/xml/no_climate_model.xml scenario component.\n",
      "Parsing ../input/gcamdata/xml/socioeconomics_gSSP2.xml scenario component.\n",
      "Parsing ../input/gcamdata/xml/resources.xml scenario component.\n",
      "Parsing ../input/gcamdata/xml/en_supply.xml scenario component.\n",
      "Parsing ../input/gcamdata/xml/en_transformation.xml scenario component.\n",
      "Parsing ../input/gcamdata/xml/electricity.xml scenario component.\n",
      "Parsing ../input/gcamdata/xml/heat.xml scenario component.\n",
      "Parsing ../input/gcamdata/xml/hydrogen.xml scenario component.\n",
      "Parsing ../input/gcamdata/xml/en_distribution.xml scenario component.\n",
      "Parsing ../input/gcamdata/xml/industry.xml scenario component.\n",
      "Parsing ../input/gcamdata/xml/industry_incelas_gssp2.xml scenario component.\n",
      "Parsing ../input/gcamdata/xml/cement.xml scenario component.\n",
      "Parsing ../input/gcamdata/xml/cement_incelas_gssp2.xml scenario component.\n",
      "Parsing ../input/gcamdata/xml/en_Fert.xml scenario component.\n",
      "Parsing ../input/gcamdata/xml/HDDCDD_constdd_no_GCM.xml scenario component.\n",
      "Parsing ../input/gcamdata/xml/building_det.xml scenario component.\n",
      "Parsing ../input/gcamdata/xml/transportation_UCD_CORE.xml scenario component.\n",
      "Parsing ../input/gcamdata/xml/Ccoef.xml scenario component.\n",
      "Parsing ../input/gcamdata/xml/Cstorage.xml scenario component.\n",
      "Parsing ../input/gcamdata/xml/ag_For_Past_bio_base_IRR_MGMT.xml scenario component.\n",
      "Parsing ../input/gcamdata/xml/ag_cost_IRR_MGMT.xml scenario component.\n",
      "Parsing ../input/gcamdata/xml/ag_prodchange_ref_IRR_MGMT.xml scenario component.\n",
      "Parsing ../input/gcamdata/xml/resbio_input_IRR_MGMT.xml scenario component.\n",
      "Parsing ../input/gcamdata/xml/an_input.xml scenario component.\n",
      "Parsing ../input/gcamdata/xml/ag_Fert_IRR_MGMT.xml scenario component.\n",
      "Parsing ../input/gcamdata/xml/land_input_1.xml scenario component.\n",
      "Parsing ../input/gcamdata/xml/land_input_2.xml scenario component.\n",
      "Parsing ../input/gcamdata/xml/land_input_3_IRR.xml scenario component.\n",
      "Parsing ../input/gcamdata/xml/land_input_4_IRR_MGMT.xml scenario component.\n",
      "Parsing ../input/gcamdata/xml/land_input_5_IRR_MGMT.xml scenario component.\n",
      "Parsing ../input/gcamdata/xml/demand_input.xml scenario component.\n",
      "Parsing ../input/gcamdata/xml/bio_trade.xml scenario component.\n",
      "Parsing ../input/gcamdata/xml/ag_trade.xml scenario component.\n",
      "Parsing ../input/gcamdata/xml/unlimited_water_supply.xml scenario component.\n",
      "Parsing ../input/gcamdata/xml/water_mapping.xml scenario component.\n",
      "Parsing ../input/gcamdata/xml/ag_water_input_IRR_MGMT.xml scenario component.\n",
      "Parsing ../input/gcamdata/xml/onshore_wind.xml scenario component.\n",
      "Parsing ../input/solution/cal_broyden_config.xml scenario component.\n",
      "XML parsing complete.\n",
      "Starting new scenario: Reference\n",
      "ERROR:Could not order activity: seawater in USA\n",
      "ERROR:Could not order activity: seawater in Africa_Eastern\n",
      "ERROR:Could not order activity: seawater in Africa_Northern\n",
      "ERROR:Could not order activity: seawater in Africa_Southern\n",
      "ERROR:Could not order activity: seawater in Africa_Western\n",
      "ERROR:Could not order activity: seawater in Australia_NZ\n",
      "ERROR:Could not order activity: seawater in Brazil\n",
      "ERROR:Could not order activity: seawater in Canada\n",
      "ERROR:Could not order activity: seawater in Central America and Caribbean\n",
      "ERROR:Could not order activity: seawater in Central Asia\n",
      "ERROR:Could not order activity: seawater in China\n",
      "ERROR:Could not order activity: seawater in EU-12\n",
      "ERROR:Could not order activity: seawater in EU-15\n",
      "ERROR:Could not order activity: seawater in Europe_Eastern\n",
      "ERROR:Could not order activity: seawater in Europe_Non_EU\n",
      "ERROR:Could not order activity: seawater in European Free Trade Association\n",
      "ERROR:Could not order activity: seawater in India\n",
      "ERROR:Could not order activity: seawater in Indonesia\n",
      "ERROR:Could not order activity: seawater in Japan\n",
      "ERROR:Could not order activity: seawater in Mexico\n",
      "ERROR:Could not order activity: seawater in Middle East\n",
      "ERROR:Could not order activity: seawater in Pakistan\n",
      "ERROR:Could not order activity: seawater in Russia\n",
      "ERROR:Could not order activity: seawater in South Africa\n",
      "ERROR:Could not order activity: seawater in South America_Northern\n",
      "ERROR:Could not order activity: seawater in South America_Southern\n",
      "ERROR:Could not order activity: seawater in South Asia\n",
      "ERROR:Could not order activity: seawater in South Korea\n",
      "ERROR:Could not order activity: seawater in Southeast Asia\n",
      "ERROR:Could not order activity: seawater in Taiwan\n",
      "ERROR:Could not order activity: seawater in Argentina\n",
      "ERROR:Could not order activity: seawater in Colombia\n"
     ]
    }
   ],
   "source": [
    "g = gw.Gcam(config_xml_file, core_exe_path)"
   ]
  },
  {
   "cell_type": "markdown",
   "metadata": {},
   "source": [
    "#### Run the model through its calibration years"
   ]
  },
  {
   "cell_type": "code",
   "execution_count": 5,
   "metadata": {},
   "outputs": [
    {
     "name": "stdout",
     "output_type": "stream",
     "text": [
      "Starting a model run. Running period 4\n",
      "Model run beginning.\n",
      "Period 0: 1975\n",
      "Model solved with last period's prices.\n",
      "\n",
      "Period 1: 1990\n",
      "Model solved normally. Iterations period 1: 165. Total iterations: 166\n",
      "\n",
      "Period 2: 2005\n",
      "Model solved normally. Iterations period 2: 181. Total iterations: 346\n",
      "\n",
      "Period 3: 2010\n",
      "Model solved normally. Iterations period 3: 326. Total iterations: 671\n",
      "\n",
      "Period 4: 2015\n",
      "Model solved normally. Iterations period 4: 200. Total iterations: 870\n",
      "\n",
      "All model periods solved correctly.\n",
      "Model run completed.\n"
     ]
    }
   ],
   "source": [
    "final_cal_period = g.convert_year_to_period(2015)\n",
    "g.run_to_period(final_cal_period)"
   ]
  },
  {
   "cell_type": "markdown",
   "metadata": {},
   "source": [
    "#### Query land allocation data from the current GCAM run"
   ]
  },
  {
   "cell_type": "code",
   "execution_count": 6,
   "metadata": {},
   "outputs": [
    {
     "data": {
      "text/html": [
       "<div>\n",
       "<style scoped>\n",
       "    .dataframe tbody tr th:only-of-type {\n",
       "        vertical-align: middle;\n",
       "    }\n",
       "\n",
       "    .dataframe tbody tr th {\n",
       "        vertical-align: top;\n",
       "    }\n",
       "\n",
       "    .dataframe thead th {\n",
       "        text-align: right;\n",
       "    }\n",
       "</style>\n",
       "<table border=\"1\" class=\"dataframe\">\n",
       "  <thead>\n",
       "    <tr style=\"text-align: right;\">\n",
       "      <th></th>\n",
       "      <th>region</th>\n",
       "      <th>child-nodes</th>\n",
       "      <th>year</th>\n",
       "      <th>land-allocation</th>\n",
       "    </tr>\n",
       "  </thead>\n",
       "  <tbody>\n",
       "    <tr>\n",
       "      <th>0</th>\n",
       "      <td>Africa_Eastern</td>\n",
       "      <td>Corn_AfrCstE_IRR_hi</td>\n",
       "      <td>1975</td>\n",
       "      <td>0.009381</td>\n",
       "    </tr>\n",
       "    <tr>\n",
       "      <th>1</th>\n",
       "      <td>Africa_Eastern</td>\n",
       "      <td>Corn_AfrCstE_IRR_hi</td>\n",
       "      <td>1990</td>\n",
       "      <td>0.008705</td>\n",
       "    </tr>\n",
       "    <tr>\n",
       "      <th>2</th>\n",
       "      <td>Africa_Eastern</td>\n",
       "      <td>Corn_AfrCstE_IRR_hi</td>\n",
       "      <td>2005</td>\n",
       "      <td>0.010365</td>\n",
       "    </tr>\n",
       "    <tr>\n",
       "      <th>3</th>\n",
       "      <td>Africa_Eastern</td>\n",
       "      <td>Corn_AfrCstE_IRR_hi</td>\n",
       "      <td>2010</td>\n",
       "      <td>0.012348</td>\n",
       "    </tr>\n",
       "    <tr>\n",
       "      <th>4</th>\n",
       "      <td>Africa_Eastern</td>\n",
       "      <td>Corn_AfrCstE_IRR_hi</td>\n",
       "      <td>2015</td>\n",
       "      <td>0.013194</td>\n",
       "    </tr>\n",
       "    <tr>\n",
       "      <th>5</th>\n",
       "      <td>Africa_Eastern</td>\n",
       "      <td>Corn_AfrCstE_IRR_lo</td>\n",
       "      <td>1975</td>\n",
       "      <td>0.009381</td>\n",
       "    </tr>\n",
       "  </tbody>\n",
       "</table>\n",
       "</div>"
      ],
      "text/plain": [
       "           region          child-nodes  year  land-allocation\n",
       "0  Africa_Eastern  Corn_AfrCstE_IRR_hi  1975         0.009381\n",
       "1  Africa_Eastern  Corn_AfrCstE_IRR_hi  1990         0.008705\n",
       "2  Africa_Eastern  Corn_AfrCstE_IRR_hi  2005         0.010365\n",
       "3  Africa_Eastern  Corn_AfrCstE_IRR_hi  2010         0.012348\n",
       "4  Africa_Eastern  Corn_AfrCstE_IRR_hi  2015         0.013194\n",
       "5  Africa_Eastern  Corn_AfrCstE_IRR_lo  1975         0.009381"
      ]
     },
     "execution_count": 6,
     "metadata": {},
     "output_type": "execute_result"
    }
   ],
   "source": [
    "# load query from query library\n",
    "query_string = gw.get_query('land', 'land_allocation')\n",
    "\n",
    "# query specific information\n",
    "query_params = {'region': ['*'], 'leaf': ['*'], 'year': ['<=', g.get_current_year()]}\n",
    "\n",
    "# create an output data frame containing land data\n",
    "land_df = g.get_data(query_string, query_params)\n",
    "\n",
    "land_df.head(6)\n"
   ]
  },
  {
   "cell_type": "markdown",
   "metadata": {},
   "source": [
    "# Handing off to Demeter"
   ]
  },
  {
   "cell_type": "code",
   "execution_count": 8,
   "metadata": {},
   "outputs": [],
   "source": [
    "# TODO:  read directly from the `land_df` producted by gcamwrapper; right now, read the content from a\n",
    "#  pickled file locally for testing\n",
    "land_df = pd.read_pickle('/home/msdadmin/csdms_demo/demeter_data/inputs/projected/land_alloc.pkl')\n"
   ]
  },
  {
   "cell_type": "markdown",
   "metadata": {},
   "source": [
    "## Run Demeter"
   ]
  },
  {
   "cell_type": "code",
   "execution_count": 7,
   "metadata": {},
   "outputs": [
    {
     "name": "stdout",
     "output_type": "stream",
     "text": [
      "2021-05-12 15:09:20,688 - demeter_runtime - INFO - Using `run_dir`:  /home/msdadmin/csdms_demo/demeter_data\n"
     ]
    }
   ],
   "source": [
    "config_file = '/home/msdadmin/csdms_demo/demeter_data/csdms_clinic_config.ini'\n",
    "\n",
    "# instantiate demeter model\n",
    "model = Model(config_file=config_file, \n",
    "              gcamwrapper_df=land_df,\n",
    "              write_outputs=False)\n"
   ]
  },
  {
   "cell_type": "code",
   "execution_count": 8,
   "metadata": {},
   "outputs": [
    {
     "name": "stdout",
     "output_type": "stream",
     "text": [
      "2021-05-12 15:09:25,290 - demeter_runtime - INFO - START\n",
      "2021-05-12 15:09:25,291 - demeter_runtime - INFO - Reading allocation input files...\n",
      "2021-05-12 15:09:25,315 - demeter_runtime - INFO - PERFORMANCE:  Allocation files processed in 0.022575855255126953 seconds\n",
      "2021-05-12 15:09:25,319 - demeter_runtime - INFO - Preparing projected land use data...\n",
      "2021-05-12 15:09:25,319 - demeter_runtime - INFO - Using projected GCAM data from `gcamwrapper` data frame\n"
     ]
    },
    {
     "name": "stderr",
     "output_type": "stream",
     "text": [
      "WARNING:root:Land classes in projected model but not in allocation file:  ['protectedgrassland' 'protectedshrubland' 'protectedunmanagedforest'\n",
      " 'protectedunmanagedpasture']\n"
     ]
    },
    {
     "name": "stdout",
     "output_type": "stream",
     "text": [
      "2021-05-12 15:09:25,448 - demeter_runtime - INFO - Number of regions from projected file:  33\n"
     ]
    },
    {
     "name": "stderr",
     "output_type": "stream",
     "text": [
      "INFO:demeter_runtime:Number of regions from projected file:  33\n"
     ]
    },
    {
     "name": "stdout",
     "output_type": "stream",
     "text": [
      "2021-05-12 15:09:25,449 - demeter_runtime - INFO - Number of basins from projected file:  231\n"
     ]
    },
    {
     "name": "stderr",
     "output_type": "stream",
     "text": [
      "INFO:demeter_runtime:Number of basins from projected file:  231\n"
     ]
    },
    {
     "name": "stdout",
     "output_type": "stream",
     "text": [
      "2021-05-12 15:09:25,450 - demeter_runtime - INFO - PERFORMANCE:  Projected landuse data prepared in 0.13115596771240234 seconds\n"
     ]
    },
    {
     "name": "stderr",
     "output_type": "stream",
     "text": [
      "INFO:demeter_runtime:PERFORMANCE:  Projected landuse data prepared in 0.13115596771240234 seconds\n"
     ]
    },
    {
     "name": "stdout",
     "output_type": "stream",
     "text": [
      "2021-05-12 15:09:25,451 - demeter_runtime - INFO - Preparing base layer land use data...\n"
     ]
    },
    {
     "name": "stderr",
     "output_type": "stream",
     "text": [
      "INFO:demeter_runtime:Preparing base layer land use data...\n"
     ]
    },
    {
     "name": "stdout",
     "output_type": "stream",
     "text": [
      "2021-05-12 15:09:25,713 - demeter_runtime - INFO - PERFORMANCE:  Base spatial landuse data prepared in 0.26058435440063477 seconds\n"
     ]
    },
    {
     "name": "stderr",
     "output_type": "stream",
     "text": [
      "INFO:demeter_runtime:PERFORMANCE:  Base spatial landuse data prepared in 0.26058435440063477 seconds\n"
     ]
    },
    {
     "name": "stdout",
     "output_type": "stream",
     "text": [
      "2021-05-12 15:09:25,714 - demeter_runtime - INFO - Harmonizing grid area...\n"
     ]
    },
    {
     "name": "stderr",
     "output_type": "stream",
     "text": [
      "INFO:demeter_runtime:Harmonizing grid area...\n"
     ]
    },
    {
     "name": "stdout",
     "output_type": "stream",
     "text": [
      "2021-05-12 15:09:25,859 - demeter_runtime - INFO - PERFORMANCE:  Harmonization completed in 0.14376497268676758 seconds\n"
     ]
    },
    {
     "name": "stderr",
     "output_type": "stream",
     "text": [
      "INFO:demeter_runtime:PERFORMANCE:  Harmonization completed in 0.14376497268676758 seconds\n"
     ]
    },
    {
     "name": "stdout",
     "output_type": "stream",
     "text": [
      "2021-05-12 15:09:25,860 - demeter_runtime - INFO - Applying base layer land use constraints and prepping future projection constraints...\n"
     ]
    },
    {
     "name": "stderr",
     "output_type": "stream",
     "text": [
      "INFO:demeter_runtime:Applying base layer land use constraints and prepping future projection constraints...\n"
     ]
    },
    {
     "name": "stdout",
     "output_type": "stream",
     "text": [
      "2021-05-12 15:09:26,536 - demeter_runtime - INFO - PERFORMANCE:  Constraints applied to projected and spatial data in 0.6750528812408447 seconds\n"
     ]
    },
    {
     "name": "stderr",
     "output_type": "stream",
     "text": [
      "INFO:demeter_runtime:PERFORMANCE:  Constraints applied to projected and spatial data in 0.6750528812408447 seconds\n"
     ]
    },
    {
     "name": "stdout",
     "output_type": "stream",
     "text": [
      "2021-05-12 15:09:26,538 - demeter_runtime - INFO - Creating and processing kernel density...\n"
     ]
    },
    {
     "name": "stderr",
     "output_type": "stream",
     "text": [
      "INFO:demeter_runtime:Creating and processing kernel density...\n"
     ]
    },
    {
     "name": "stdout",
     "output_type": "stream",
     "text": [
      "2021-05-12 15:09:27,207 - demeter_runtime - INFO - PERFORMANCE:  Kernel density filter prepared in 0.667750358581543 seconds\n"
     ]
    },
    {
     "name": "stderr",
     "output_type": "stream",
     "text": [
      "INFO:demeter_runtime:PERFORMANCE:  Kernel density filter prepared in 0.667750358581543 seconds\n"
     ]
    }
   ],
   "source": [
    "# initialize model\n",
    "model.initialize()\n"
   ]
  },
  {
   "cell_type": "code",
   "execution_count": 9,
   "metadata": {},
   "outputs": [
    {
     "name": "stdout",
     "output_type": "stream",
     "text": [
      "2021-05-12 15:09:44,445 - demeter_runtime - INFO - Applying intensification: pass 1 for time step 2015...\n"
     ]
    },
    {
     "name": "stderr",
     "output_type": "stream",
     "text": [
      "INFO:demeter_runtime:Applying intensification: pass 1 for time step 2015...\n"
     ]
    },
    {
     "name": "stdout",
     "output_type": "stream",
     "text": [
      "2021-05-12 15:10:04,211 - demeter_runtime - INFO - Applying expansion for time step 2015...\n"
     ]
    },
    {
     "name": "stderr",
     "output_type": "stream",
     "text": [
      "INFO:demeter_runtime:Applying expansion for time step 2015...\n"
     ]
    },
    {
     "name": "stdout",
     "output_type": "stream",
     "text": [
      "2021-05-12 15:10:20,622 - demeter_runtime - INFO - Applying intensification: pass 2 for time step 2015...\n"
     ]
    },
    {
     "name": "stderr",
     "output_type": "stream",
     "text": [
      "INFO:demeter_runtime:Applying intensification: pass 2 for time step 2015...\n"
     ]
    }
   ],
   "source": [
    "# process first year\n",
    "df_2015 = model.process_step()\n"
   ]
  },
  {
   "cell_type": "code",
   "execution_count": 10,
   "metadata": {},
   "outputs": [
    {
     "data": {
      "text/html": [
       "<div>\n",
       "<style scoped>\n",
       "    .dataframe tbody tr th:only-of-type {\n",
       "        vertical-align: middle;\n",
       "    }\n",
       "\n",
       "    .dataframe tbody tr th {\n",
       "        vertical-align: top;\n",
       "    }\n",
       "\n",
       "    .dataframe thead th {\n",
       "        text-align: right;\n",
       "    }\n",
       "</style>\n",
       "<table border=\"1\" class=\"dataframe\">\n",
       "  <thead>\n",
       "    <tr style=\"text-align: right;\">\n",
       "      <th></th>\n",
       "      <th>latitude</th>\n",
       "      <th>longitude</th>\n",
       "      <th>basin_id</th>\n",
       "      <th>region_id</th>\n",
       "      <th>water</th>\n",
       "      <th>crop1_irr</th>\n",
       "      <th>crop10_irr</th>\n",
       "      <th>crop11_irr</th>\n",
       "      <th>crop12_irr</th>\n",
       "      <th>crop13_irr</th>\n",
       "      <th>...</th>\n",
       "      <th>rockicedesert</th>\n",
       "      <th>shrubland</th>\n",
       "      <th>unmanagedforest</th>\n",
       "      <th>unmanagedpasture</th>\n",
       "      <th>urbanland</th>\n",
       "      <th>biomassgrass_irr</th>\n",
       "      <th>biomassgrass_rfd</th>\n",
       "      <th>biomasstree_irr</th>\n",
       "      <th>biomasstree_rfd</th>\n",
       "      <th>tundra</th>\n",
       "    </tr>\n",
       "  </thead>\n",
       "  <tbody>\n",
       "    <tr>\n",
       "      <th>0</th>\n",
       "      <td>10.25</td>\n",
       "      <td>-0.25</td>\n",
       "      <td>160.0</td>\n",
       "      <td>5.0</td>\n",
       "      <td>0.0</td>\n",
       "      <td>0.0</td>\n",
       "      <td>0.000292</td>\n",
       "      <td>0.000292</td>\n",
       "      <td>0.000082</td>\n",
       "      <td>0.000082</td>\n",
       "      <td>...</td>\n",
       "      <td>0.0</td>\n",
       "      <td>0.000000</td>\n",
       "      <td>0.0</td>\n",
       "      <td>0.196330</td>\n",
       "      <td>0.000000</td>\n",
       "      <td>0.0</td>\n",
       "      <td>0.0</td>\n",
       "      <td>0.0</td>\n",
       "      <td>0.0</td>\n",
       "      <td>0.000000</td>\n",
       "    </tr>\n",
       "    <tr>\n",
       "      <th>1</th>\n",
       "      <td>10.75</td>\n",
       "      <td>-0.25</td>\n",
       "      <td>160.0</td>\n",
       "      <td>5.0</td>\n",
       "      <td>0.0</td>\n",
       "      <td>0.0</td>\n",
       "      <td>0.000069</td>\n",
       "      <td>0.000069</td>\n",
       "      <td>0.000000</td>\n",
       "      <td>0.000000</td>\n",
       "      <td>...</td>\n",
       "      <td>0.0</td>\n",
       "      <td>0.000000</td>\n",
       "      <td>0.0</td>\n",
       "      <td>0.081875</td>\n",
       "      <td>0.000000</td>\n",
       "      <td>0.0</td>\n",
       "      <td>0.0</td>\n",
       "      <td>0.0</td>\n",
       "      <td>0.0</td>\n",
       "      <td>0.000000</td>\n",
       "    </tr>\n",
       "    <tr>\n",
       "      <th>2</th>\n",
       "      <td>11.25</td>\n",
       "      <td>-0.25</td>\n",
       "      <td>160.0</td>\n",
       "      <td>5.0</td>\n",
       "      <td>0.0</td>\n",
       "      <td>0.0</td>\n",
       "      <td>0.000000</td>\n",
       "      <td>0.000000</td>\n",
       "      <td>0.000000</td>\n",
       "      <td>0.000000</td>\n",
       "      <td>...</td>\n",
       "      <td>0.0</td>\n",
       "      <td>0.000000</td>\n",
       "      <td>0.0</td>\n",
       "      <td>0.283890</td>\n",
       "      <td>0.001667</td>\n",
       "      <td>0.0</td>\n",
       "      <td>0.0</td>\n",
       "      <td>0.0</td>\n",
       "      <td>0.0</td>\n",
       "      <td>0.017833</td>\n",
       "    </tr>\n",
       "    <tr>\n",
       "      <th>3</th>\n",
       "      <td>11.75</td>\n",
       "      <td>-0.25</td>\n",
       "      <td>160.0</td>\n",
       "      <td>5.0</td>\n",
       "      <td>0.0</td>\n",
       "      <td>0.0</td>\n",
       "      <td>0.000000</td>\n",
       "      <td>0.000000</td>\n",
       "      <td>0.000000</td>\n",
       "      <td>0.000000</td>\n",
       "      <td>...</td>\n",
       "      <td>0.0</td>\n",
       "      <td>0.000000</td>\n",
       "      <td>0.0</td>\n",
       "      <td>0.284394</td>\n",
       "      <td>0.003472</td>\n",
       "      <td>0.0</td>\n",
       "      <td>0.0</td>\n",
       "      <td>0.0</td>\n",
       "      <td>0.0</td>\n",
       "      <td>0.060474</td>\n",
       "    </tr>\n",
       "    <tr>\n",
       "      <th>4</th>\n",
       "      <td>12.25</td>\n",
       "      <td>-0.25</td>\n",
       "      <td>149.0</td>\n",
       "      <td>5.0</td>\n",
       "      <td>0.0</td>\n",
       "      <td>0.0</td>\n",
       "      <td>0.000002</td>\n",
       "      <td>0.000002</td>\n",
       "      <td>0.000000</td>\n",
       "      <td>0.000000</td>\n",
       "      <td>...</td>\n",
       "      <td>0.0</td>\n",
       "      <td>0.267076</td>\n",
       "      <td>0.0</td>\n",
       "      <td>0.155609</td>\n",
       "      <td>0.003208</td>\n",
       "      <td>0.0</td>\n",
       "      <td>0.0</td>\n",
       "      <td>0.0</td>\n",
       "      <td>0.0</td>\n",
       "      <td>0.165199</td>\n",
       "    </tr>\n",
       "  </tbody>\n",
       "</table>\n",
       "<p>5 rows × 59 columns</p>\n",
       "</div>"
      ],
      "text/plain": [
       "   latitude  longitude  basin_id  region_id  water  crop1_irr  crop10_irr  \\\n",
       "0     10.25      -0.25     160.0        5.0    0.0        0.0    0.000292   \n",
       "1     10.75      -0.25     160.0        5.0    0.0        0.0    0.000069   \n",
       "2     11.25      -0.25     160.0        5.0    0.0        0.0    0.000000   \n",
       "3     11.75      -0.25     160.0        5.0    0.0        0.0    0.000000   \n",
       "4     12.25      -0.25     149.0        5.0    0.0        0.0    0.000002   \n",
       "\n",
       "   crop11_irr  crop12_irr  crop13_irr  ...  rockicedesert  shrubland  \\\n",
       "0    0.000292    0.000082    0.000082  ...            0.0   0.000000   \n",
       "1    0.000069    0.000000    0.000000  ...            0.0   0.000000   \n",
       "2    0.000000    0.000000    0.000000  ...            0.0   0.000000   \n",
       "3    0.000000    0.000000    0.000000  ...            0.0   0.000000   \n",
       "4    0.000002    0.000000    0.000000  ...            0.0   0.267076   \n",
       "\n",
       "   unmanagedforest  unmanagedpasture  urbanland  biomassgrass_irr  \\\n",
       "0              0.0          0.196330   0.000000               0.0   \n",
       "1              0.0          0.081875   0.000000               0.0   \n",
       "2              0.0          0.283890   0.001667               0.0   \n",
       "3              0.0          0.284394   0.003472               0.0   \n",
       "4              0.0          0.155609   0.003208               0.0   \n",
       "\n",
       "   biomassgrass_rfd  biomasstree_irr  biomasstree_rfd    tundra  \n",
       "0               0.0              0.0              0.0  0.000000  \n",
       "1               0.0              0.0              0.0  0.000000  \n",
       "2               0.0              0.0              0.0  0.017833  \n",
       "3               0.0              0.0              0.0  0.060474  \n",
       "4               0.0              0.0              0.0  0.165199  \n",
       "\n",
       "[5 rows x 59 columns]"
      ]
     },
     "execution_count": 10,
     "metadata": {},
     "output_type": "execute_result"
    }
   ],
   "source": [
    "df_2015.head()"
   ]
  },
  {
   "cell_type": "code",
   "execution_count": 11,
   "metadata": {},
   "outputs": [
    {
     "name": "stdout",
     "output_type": "stream",
     "text": [
      "2021-05-12 15:12:30,338 - demeter_runtime - INFO - END\n"
     ]
    },
    {
     "name": "stderr",
     "output_type": "stream",
     "text": [
      "INFO:demeter_runtime:END\n"
     ]
    }
   ],
   "source": [
    "# cleanup model\n",
    "model.cleanup()\n"
   ]
  },
  {
   "cell_type": "markdown",
   "metadata": {},
   "source": [
    "## Run the next model period in GCAM without yield impacts"
   ]
  },
  {
   "cell_type": "code",
   "execution_count": 21,
   "metadata": {},
   "outputs": [
    {
     "name": "stdout",
     "output_type": "stream",
     "text": [
      "Starting a model run. Running period 5\n",
      "Model run beginning.\n",
      "Period 5: 2020\n",
      "Model solved normally. Iterations period 5: 938. Total iterations: 1808\n",
      "\n",
      "All model periods solved correctly.\n",
      "Model run completed.\n"
     ]
    }
   ],
   "source": [
    "g.run_to_period()"
   ]
  },
  {
   "cell_type": "markdown",
   "metadata": {},
   "source": [
    "### Query for some results with which to compare results"
   ]
  },
  {
   "cell_type": "code",
   "execution_count": 27,
   "metadata": {},
   "outputs": [
    {
     "name": "stderr",
     "output_type": "stream",
     "text": [
      "/usr/local/lib/python3.8/dist-packages/gcamwrapper-0.1.0-py3.8-linux-x86_64.egg/gcamwrapper/main.py:54: UserWarning: Pandas doesn't allow columns to be created via a new attribute name - see https://pandas.pydata.org/pandas-docs/stable/indexing.html#attribute-access\n",
      "  data_df.meta = {'units': units}\n"
     ]
    }
   ],
   "source": [
    "# load query for land allocation\n",
    "query_string = gw.get_query('land', 'land_allocation')\n",
    "query_params = {'region': ['*'], 'leaf': ['*'], 'year': ['<=', g.get_current_year()]}\n",
    "# run the query\n",
    "land_df = g.get_data(query_string, query_params)\n",
    "\n",
    "# get Corn producer prices\n",
    "query_string = gw.get_query('ag', 'prices')\n",
    "query_params = {'region': ['*'], 'sector': ['=', 'Corn'], 'year': ['=', g.get_current_year()]}\n",
    "prod_prices = g.get_data(query_string, query_params)\n",
    "\n",
    "# get domestic Corn prices (accounting for trade)\n",
    "query_params['sector'] = [\"=\", 'regional corn']\n",
    "prod_prices = g.get_data(query_string, query_params)\n",
    "\n",
    "# finally get the actual yields\n",
    "query_string = gw.get_query('ag', 'yield')\n",
    "query_params = {'region': ['*'], 'sector': ['=', 'Corn'], 'tech': ['*'], 'year': ['=', g.get_current_year()]}\n",
    "yields = g.get_data(query_string, query_params)"
   ]
  },
  {
   "cell_type": "markdown",
   "metadata": {},
   "source": [
    "## Get the yield impacts and apply them"
   ]
  },
  {
   "cell_type": "code",
   "execution_count": 24,
   "metadata": {},
   "outputs": [
    {
     "data": {
      "text/html": [
       "<div>\n",
       "<style scoped>\n",
       "    .dataframe tbody tr th:only-of-type {\n",
       "        vertical-align: middle;\n",
       "    }\n",
       "\n",
       "    .dataframe tbody tr th {\n",
       "        vertical-align: top;\n",
       "    }\n",
       "\n",
       "    .dataframe thead th {\n",
       "        text-align: right;\n",
       "    }\n",
       "</style>\n",
       "<table border=\"1\" class=\"dataframe\">\n",
       "  <thead>\n",
       "    <tr style=\"text-align: right;\">\n",
       "      <th></th>\n",
       "      <th>region</th>\n",
       "      <th>sector</th>\n",
       "      <th>subsector</th>\n",
       "      <th>technology</th>\n",
       "      <th>year</th>\n",
       "      <th>yield_scaler</th>\n",
       "    </tr>\n",
       "  </thead>\n",
       "  <tbody>\n",
       "    <tr>\n",
       "      <th>Crop1</th>\n",
       "      <td>USA</td>\n",
       "      <td>Wheat</td>\n",
       "      <td>Wheat_NelsonR</td>\n",
       "      <td>Wheat_NelsonR_IRR_hi</td>\n",
       "      <td>2020</td>\n",
       "      <td>1.193611</td>\n",
       "    </tr>\n",
       "    <tr>\n",
       "      <th>Crop1</th>\n",
       "      <td>USA</td>\n",
       "      <td>Wheat</td>\n",
       "      <td>Wheat_MexCstNW</td>\n",
       "      <td>Wheat_MexCstNW_IRR_hi</td>\n",
       "      <td>2020</td>\n",
       "      <td>0.765466</td>\n",
       "    </tr>\n",
       "    <tr>\n",
       "      <th>Crop1</th>\n",
       "      <td>USA</td>\n",
       "      <td>Wheat</td>\n",
       "      <td>Wheat_California</td>\n",
       "      <td>Wheat_California_IRR_hi</td>\n",
       "      <td>2020</td>\n",
       "      <td>0.936728</td>\n",
       "    </tr>\n",
       "    <tr>\n",
       "      <th>Crop1</th>\n",
       "      <td>USA</td>\n",
       "      <td>Wheat</td>\n",
       "      <td>Wheat_MissppRN</td>\n",
       "      <td>Wheat_MissppRN_IRR_hi</td>\n",
       "      <td>2020</td>\n",
       "      <td>0.923013</td>\n",
       "    </tr>\n",
       "    <tr>\n",
       "      <th>Crop1</th>\n",
       "      <td>USA</td>\n",
       "      <td>Wheat</td>\n",
       "      <td>Wheat_MissppRS</td>\n",
       "      <td>Wheat_MissppRS_IRR_hi</td>\n",
       "      <td>2020</td>\n",
       "      <td>0.920445</td>\n",
       "    </tr>\n",
       "  </tbody>\n",
       "</table>\n",
       "</div>"
      ],
      "text/plain": [
       "      region sector         subsector               technology  year  \\\n",
       "Crop1    USA  Wheat     Wheat_NelsonR     Wheat_NelsonR_IRR_hi  2020   \n",
       "Crop1    USA  Wheat    Wheat_MexCstNW    Wheat_MexCstNW_IRR_hi  2020   \n",
       "Crop1    USA  Wheat  Wheat_California  Wheat_California_IRR_hi  2020   \n",
       "Crop1    USA  Wheat    Wheat_MissppRN    Wheat_MissppRN_IRR_hi  2020   \n",
       "Crop1    USA  Wheat    Wheat_MissppRS    Wheat_MissppRS_IRR_hi  2020   \n",
       "\n",
       "       yield_scaler  \n",
       "Crop1      1.193611  \n",
       "Crop1      0.765466  \n",
       "Crop1      0.936728  \n",
       "Crop1      0.923013  \n",
       "Crop1      0.920445  "
      ]
     },
     "execution_count": 24,
     "metadata": {},
     "output_type": "execute_result"
    }
   ],
   "source": [
    "yield_scaler_df = demo_utils.get_yield_scalers(df_2015, g.get_current_year())\n",
    "yield_scaler_df.head()"
   ]
  },
  {
   "cell_type": "code",
   "execution_count": 37,
   "metadata": {},
   "outputs": [
    {
     "data": {
      "text/html": [
       "<div>\n",
       "<style scoped>\n",
       "    .dataframe tbody tr th:only-of-type {\n",
       "        vertical-align: middle;\n",
       "    }\n",
       "\n",
       "    .dataframe tbody tr th {\n",
       "        vertical-align: top;\n",
       "    }\n",
       "\n",
       "    .dataframe thead th {\n",
       "        text-align: right;\n",
       "    }\n",
       "</style>\n",
       "<table border=\"1\" class=\"dataframe\">\n",
       "  <thead>\n",
       "    <tr style=\"text-align: right;\">\n",
       "      <th></th>\n",
       "      <th>region</th>\n",
       "      <th>sector</th>\n",
       "      <th>technology</th>\n",
       "      <th>year</th>\n",
       "      <th>yield</th>\n",
       "    </tr>\n",
       "  </thead>\n",
       "  <tbody>\n",
       "    <tr>\n",
       "      <th>0</th>\n",
       "      <td>Africa_Eastern</td>\n",
       "      <td>Corn</td>\n",
       "      <td>Corn_AfrCstE_IRR_hi</td>\n",
       "      <td>2020</td>\n",
       "      <td>0.127408</td>\n",
       "    </tr>\n",
       "    <tr>\n",
       "      <th>1</th>\n",
       "      <td>Africa_Eastern</td>\n",
       "      <td>Corn</td>\n",
       "      <td>Corn_AfrCstE_IRR_lo</td>\n",
       "      <td>2020</td>\n",
       "      <td>0.084936</td>\n",
       "    </tr>\n",
       "    <tr>\n",
       "      <th>2</th>\n",
       "      <td>Africa_Eastern</td>\n",
       "      <td>Corn</td>\n",
       "      <td>Corn_AfrCstE_RFD_hi</td>\n",
       "      <td>2020</td>\n",
       "      <td>0.119304</td>\n",
       "    </tr>\n",
       "    <tr>\n",
       "      <th>3</th>\n",
       "      <td>Africa_Eastern</td>\n",
       "      <td>Corn</td>\n",
       "      <td>Corn_AfrCstE_RFD_lo</td>\n",
       "      <td>2020</td>\n",
       "      <td>0.079536</td>\n",
       "    </tr>\n",
       "    <tr>\n",
       "      <th>4</th>\n",
       "      <td>Africa_Eastern</td>\n",
       "      <td>Corn</td>\n",
       "      <td>Corn_AfrCstNE_IRR_hi</td>\n",
       "      <td>2020</td>\n",
       "      <td>0.052527</td>\n",
       "    </tr>\n",
       "  </tbody>\n",
       "</table>\n",
       "</div>"
      ],
      "text/plain": [
       "           region sector            technology  year     yield\n",
       "0  Africa_Eastern   Corn   Corn_AfrCstE_IRR_hi  2020  0.127408\n",
       "1  Africa_Eastern   Corn   Corn_AfrCstE_IRR_lo  2020  0.084936\n",
       "2  Africa_Eastern   Corn   Corn_AfrCstE_RFD_hi  2020  0.119304\n",
       "3  Africa_Eastern   Corn   Corn_AfrCstE_RFD_lo  2020  0.079536\n",
       "4  Africa_Eastern   Corn  Corn_AfrCstNE_IRR_hi  2020  0.052527"
      ]
     },
     "execution_count": 37,
     "metadata": {},
     "output_type": "execute_result"
    }
   ],
   "source": [
    "#yields.join(yield_scaler_df.reset_index(), on=[\"region\", \"sector\", \"technology\", \"year\"], how=\"inner\").head()\n",
    "yields_new = yields.set_index([\"region\", \"sector\", \"technology\", \"year\"]).join(yield_scaler_df.set_index([\"region\", \"sector\", \"technology\", \"year\"]), how=\"inner\").reset_index()\n",
    "yields_new['yield'] *= yields_new['yield_scaler']\n",
    "yields_new = yields_new.filter([\"region\", \"sector\", \"technology\", \"year\", \"yield\"])\n",
    "yields_new.head()"
   ]
  },
  {
   "cell_type": "markdown",
   "metadata": {},
   "source": [
    "## Set the new yields into the model and re-run"
   ]
  },
  {
   "cell_type": "code",
   "execution_count": 38,
   "metadata": {},
   "outputs": [
    {
     "name": "stdout",
     "output_type": "stream",
     "text": [
      "Starting a model run. Running period 5\n",
      "Model run beginning.\n",
      "Period 5: 2020\n",
      "Model solved normally. Iterations period 5: 744. Total iterations: 2551\n",
      "\n",
      "All model periods solved correctly.\n",
      "Model run completed.\n"
     ]
    }
   ],
   "source": [
    "# get the same query string\n",
    "query_string = gw.get_query('ag', 'yield')\n",
    "# however the syntax for the query params are slightly different for set data as we\n",
    "# need to explicitly tell it which match with the '+' argument and of course we do\n",
    "# not give the values to compare against as those are coming from the DataFrame\n",
    "query_params = {'region': ['+', '='], 'sector': ['+', '='], 'tech': ['+', '='], 'year': ['+', '=']}\n",
    "g.set_data(yields_new, query_string, query_params)\n",
    "\n",
    "# re-run 2020\n",
    "g.run_to_period(g.get_current_period())\n",
    "\n"
   ]
  },
  {
   "cell_type": "markdown",
   "metadata": {},
   "source": [
    "## Get the results with impacts for comparison"
   ]
  },
  {
   "cell_type": "code",
   "execution_count": 39,
   "metadata": {},
   "outputs": [
    {
     "name": "stderr",
     "output_type": "stream",
     "text": [
      "/usr/local/lib/python3.8/dist-packages/gcamwrapper-0.1.0-py3.8-linux-x86_64.egg/gcamwrapper/main.py:54: UserWarning: Pandas doesn't allow columns to be created via a new attribute name - see https://pandas.pydata.org/pandas-docs/stable/indexing.html#attribute-access\n",
      "  data_df.meta = {'units': units}\n"
     ]
    }
   ],
   "source": [
    "# load query for land allocation\n",
    "query_string = gw.get_query('land', 'land_allocation')\n",
    "query_params = {'region': ['*'], 'leaf': ['*'], 'year': ['<=', g.get_current_year()]}\n",
    "# run the query\n",
    "land_df_new = g.get_data(query_string, query_params)\n",
    "\n",
    "# get Corn producer prices\n",
    "query_string = gw.get_query('ag', 'prices')\n",
    "query_params = {'region': ['*'], 'sector': ['=', 'Corn'], 'year': ['=', g.get_current_year()]}\n",
    "prod_prices_new = g.get_data(query_string, query_params)\n",
    "\n",
    "# get domestic Corn prices (accounting for trade)\n",
    "query_params['sector'] = [\"=\", 'regional corn']\n",
    "prod_prices_new = g.get_data(query_string, query_params)\n",
    "\n",
    "# finally get the actual yields\n",
    "query_string = gw.get_query('ag', 'yield')\n",
    "query_params = {'region': ['*'], 'sector': ['=', 'Corn'], 'tech': ['*'], 'year': ['=', g.get_current_year()]}\n",
    "yields_new = g.get_data(query_string, query_params)"
   ]
  },
  {
   "cell_type": "markdown",
   "metadata": {},
   "source": [
    "## Visualizations comparing 2025 with and without crop yield update"
   ]
  },
  {
   "cell_type": "code",
   "execution_count": 15,
   "metadata": {},
   "outputs": [],
   "source": [
    "# either load original run without updates or do two sims"
   ]
  },
  {
   "cell_type": "code",
   "execution_count": 40,
   "metadata": {},
   "outputs": [
    {
     "data": {
      "text/html": [
       "<div>\n",
       "<style scoped>\n",
       "    .dataframe tbody tr th:only-of-type {\n",
       "        vertical-align: middle;\n",
       "    }\n",
       "\n",
       "    .dataframe tbody tr th {\n",
       "        vertical-align: top;\n",
       "    }\n",
       "\n",
       "    .dataframe thead th {\n",
       "        text-align: right;\n",
       "    }\n",
       "</style>\n",
       "<table border=\"1\" class=\"dataframe\">\n",
       "  <thead>\n",
       "    <tr style=\"text-align: right;\">\n",
       "      <th></th>\n",
       "      <th>region</th>\n",
       "      <th>sector</th>\n",
       "      <th>technology</th>\n",
       "      <th>year</th>\n",
       "      <th>yield</th>\n",
       "    </tr>\n",
       "  </thead>\n",
       "  <tbody>\n",
       "    <tr>\n",
       "      <th>0</th>\n",
       "      <td>Africa_Eastern</td>\n",
       "      <td>Corn</td>\n",
       "      <td>Corn_AfrCstE_IRR_hi</td>\n",
       "      <td>2020</td>\n",
       "      <td>0.127408</td>\n",
       "    </tr>\n",
       "    <tr>\n",
       "      <th>1</th>\n",
       "      <td>Africa_Eastern</td>\n",
       "      <td>Corn</td>\n",
       "      <td>Corn_AfrCstE_IRR_lo</td>\n",
       "      <td>2020</td>\n",
       "      <td>0.084936</td>\n",
       "    </tr>\n",
       "    <tr>\n",
       "      <th>2</th>\n",
       "      <td>Africa_Eastern</td>\n",
       "      <td>Corn</td>\n",
       "      <td>Corn_AfrCstE_RFD_hi</td>\n",
       "      <td>2020</td>\n",
       "      <td>0.119304</td>\n",
       "    </tr>\n",
       "    <tr>\n",
       "      <th>3</th>\n",
       "      <td>Africa_Eastern</td>\n",
       "      <td>Corn</td>\n",
       "      <td>Corn_AfrCstE_RFD_lo</td>\n",
       "      <td>2020</td>\n",
       "      <td>0.079536</td>\n",
       "    </tr>\n",
       "    <tr>\n",
       "      <th>4</th>\n",
       "      <td>Africa_Eastern</td>\n",
       "      <td>Corn</td>\n",
       "      <td>Corn_AfrCstNE_IRR_hi</td>\n",
       "      <td>2020</td>\n",
       "      <td>0.052527</td>\n",
       "    </tr>\n",
       "  </tbody>\n",
       "</table>\n",
       "</div>"
      ],
      "text/plain": [
       "           region sector            technology  year     yield\n",
       "0  Africa_Eastern   Corn   Corn_AfrCstE_IRR_hi  2020  0.127408\n",
       "1  Africa_Eastern   Corn   Corn_AfrCstE_IRR_lo  2020  0.084936\n",
       "2  Africa_Eastern   Corn   Corn_AfrCstE_RFD_hi  2020  0.119304\n",
       "3  Africa_Eastern   Corn   Corn_AfrCstE_RFD_lo  2020  0.079536\n",
       "4  Africa_Eastern   Corn  Corn_AfrCstNE_IRR_hi  2020  0.052527"
      ]
     },
     "execution_count": 40,
     "metadata": {},
     "output_type": "execute_result"
    }
   ],
   "source": [
    "yields_new.head()"
   ]
  },
  {
   "cell_type": "code",
   "execution_count": 41,
   "metadata": {},
   "outputs": [
    {
     "data": {
      "text/html": [
       "<div>\n",
       "<style scoped>\n",
       "    .dataframe tbody tr th:only-of-type {\n",
       "        vertical-align: middle;\n",
       "    }\n",
       "\n",
       "    .dataframe tbody tr th {\n",
       "        vertical-align: top;\n",
       "    }\n",
       "\n",
       "    .dataframe thead th {\n",
       "        text-align: right;\n",
       "    }\n",
       "</style>\n",
       "<table border=\"1\" class=\"dataframe\">\n",
       "  <thead>\n",
       "    <tr style=\"text-align: right;\">\n",
       "      <th></th>\n",
       "      <th>region</th>\n",
       "      <th>sector</th>\n",
       "      <th>year</th>\n",
       "      <th>price</th>\n",
       "    </tr>\n",
       "  </thead>\n",
       "  <tbody>\n",
       "    <tr>\n",
       "      <th>0</th>\n",
       "      <td>Africa_Eastern</td>\n",
       "      <td>regional corn</td>\n",
       "      <td>2020</td>\n",
       "      <td>0.093615</td>\n",
       "    </tr>\n",
       "    <tr>\n",
       "      <th>1</th>\n",
       "      <td>Africa_Northern</td>\n",
       "      <td>regional corn</td>\n",
       "      <td>2020</td>\n",
       "      <td>0.075543</td>\n",
       "    </tr>\n",
       "    <tr>\n",
       "      <th>2</th>\n",
       "      <td>Africa_Southern</td>\n",
       "      <td>regional corn</td>\n",
       "      <td>2020</td>\n",
       "      <td>0.070293</td>\n",
       "    </tr>\n",
       "    <tr>\n",
       "      <th>3</th>\n",
       "      <td>Africa_Western</td>\n",
       "      <td>regional corn</td>\n",
       "      <td>2020</td>\n",
       "      <td>0.101638</td>\n",
       "    </tr>\n",
       "    <tr>\n",
       "      <th>4</th>\n",
       "      <td>Argentina</td>\n",
       "      <td>regional corn</td>\n",
       "      <td>2020</td>\n",
       "      <td>0.058164</td>\n",
       "    </tr>\n",
       "  </tbody>\n",
       "</table>\n",
       "</div>"
      ],
      "text/plain": [
       "            region         sector  year     price\n",
       "0   Africa_Eastern  regional corn  2020  0.093615\n",
       "1  Africa_Northern  regional corn  2020  0.075543\n",
       "2  Africa_Southern  regional corn  2020  0.070293\n",
       "3   Africa_Western  regional corn  2020  0.101638\n",
       "4        Argentina  regional corn  2020  0.058164"
      ]
     },
     "execution_count": 41,
     "metadata": {},
     "output_type": "execute_result"
    }
   ],
   "source": [
    "prod_prices.head()"
   ]
  },
  {
   "cell_type": "code",
   "execution_count": 42,
   "metadata": {},
   "outputs": [
    {
     "data": {
      "text/html": [
       "<div>\n",
       "<style scoped>\n",
       "    .dataframe tbody tr th:only-of-type {\n",
       "        vertical-align: middle;\n",
       "    }\n",
       "\n",
       "    .dataframe tbody tr th {\n",
       "        vertical-align: top;\n",
       "    }\n",
       "\n",
       "    .dataframe thead th {\n",
       "        text-align: right;\n",
       "    }\n",
       "</style>\n",
       "<table border=\"1\" class=\"dataframe\">\n",
       "  <thead>\n",
       "    <tr style=\"text-align: right;\">\n",
       "      <th></th>\n",
       "      <th>region</th>\n",
       "      <th>sector</th>\n",
       "      <th>year</th>\n",
       "      <th>price</th>\n",
       "    </tr>\n",
       "  </thead>\n",
       "  <tbody>\n",
       "    <tr>\n",
       "      <th>0</th>\n",
       "      <td>Africa_Eastern</td>\n",
       "      <td>regional corn</td>\n",
       "      <td>2020</td>\n",
       "      <td>0.101242</td>\n",
       "    </tr>\n",
       "    <tr>\n",
       "      <th>1</th>\n",
       "      <td>Africa_Northern</td>\n",
       "      <td>regional corn</td>\n",
       "      <td>2020</td>\n",
       "      <td>0.073072</td>\n",
       "    </tr>\n",
       "    <tr>\n",
       "      <th>2</th>\n",
       "      <td>Africa_Southern</td>\n",
       "      <td>regional corn</td>\n",
       "      <td>2020</td>\n",
       "      <td>0.070003</td>\n",
       "    </tr>\n",
       "    <tr>\n",
       "      <th>3</th>\n",
       "      <td>Africa_Western</td>\n",
       "      <td>regional corn</td>\n",
       "      <td>2020</td>\n",
       "      <td>0.104164</td>\n",
       "    </tr>\n",
       "    <tr>\n",
       "      <th>4</th>\n",
       "      <td>Argentina</td>\n",
       "      <td>regional corn</td>\n",
       "      <td>2020</td>\n",
       "      <td>0.061497</td>\n",
       "    </tr>\n",
       "  </tbody>\n",
       "</table>\n",
       "</div>"
      ],
      "text/plain": [
       "            region         sector  year     price\n",
       "0   Africa_Eastern  regional corn  2020  0.101242\n",
       "1  Africa_Northern  regional corn  2020  0.073072\n",
       "2  Africa_Southern  regional corn  2020  0.070003\n",
       "3   Africa_Western  regional corn  2020  0.104164\n",
       "4        Argentina  regional corn  2020  0.061497"
      ]
     },
     "execution_count": 42,
     "metadata": {},
     "output_type": "execute_result"
    }
   ],
   "source": [
    "prod_prices_new.head()"
   ]
  },
  {
   "cell_type": "code",
   "execution_count": null,
   "metadata": {},
   "outputs": [],
   "source": []
  }
 ],
 "metadata": {
  "kernelspec": {
   "display_name": "Python 3",
   "language": "python",
   "name": "python3"
  },
  "language_info": {
   "codemirror_mode": {
    "name": "ipython",
    "version": 3
   },
   "file_extension": ".py",
   "mimetype": "text/x-python",
   "name": "python",
   "nbconvert_exporter": "python",
   "pygments_lexer": "ipython3",
   "version": "3.8.5"
  }
 },
 "nbformat": 4,
 "nbformat_minor": 2
}
